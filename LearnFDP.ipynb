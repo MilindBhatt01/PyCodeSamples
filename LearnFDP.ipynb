{
  "nbformat": 4,
  "nbformat_minor": 0,
  "metadata": {
    "colab": {
      "name": "LearnFDP.ipynb",
      "provenance": [],
      "authorship_tag": "ABX9TyPUpk6FQWUoA7WiYSb1PWVJ",
      "include_colab_link": true
    },
    "kernelspec": {
      "name": "python3",
      "display_name": "Python 3"
    },
    "language_info": {
      "name": "python"
    }
  },
  "cells": [
    {
      "cell_type": "markdown",
      "metadata": {
        "id": "view-in-github",
        "colab_type": "text"
      },
      "source": [
        "<a href=\"https://colab.research.google.com/github/MilindBhatt01/PyCodeSamples/blob/main/LearnFDP.ipynb\" target=\"_parent\"><img src=\"https://colab.research.google.com/assets/colab-badge.svg\" alt=\"Open In Colab\"/></a>"
      ]
    },
    {
      "cell_type": "code",
      "execution_count": 1,
      "metadata": {
        "colab": {
          "base_uri": "https://localhost:8080/"
        },
        "id": "wJYB7GhvKnF8",
        "outputId": "09f7478c-c02e-414b-cd60-9678803dd0d4"
      },
      "outputs": [
        {
          "output_type": "stream",
          "name": "stdout",
          "text": [
            "                            2022\n",
            "      January               February               March          \n",
            "Su Mo Tu We Th Fr Sa  Su Mo Tu We Th Fr Sa  Su Mo Tu We Th Fr Sa  \n",
            "                   1         1  2  3  4  5         1  2  3  4  5  \n",
            " 2  3  4  5  6  7  8   6  7  8  9 10 11 12   6  7  8  9 10 11 12  \n",
            " 9 10 11 12 13 14 15  13 14 15 16 17 18 19  13 14 15 16 17 18 19  \n",
            "16 17 18 19 20 21 22  20 21 22 23 24 25 26  20 21 \u001b[7m22\u001b[m 23 24 25 26  \n",
            "23 24 25 26 27 28 29  27 28                 27 28 29 30 31        \n",
            "30 31                                                             \n",
            "\n",
            "       April                  May                   June          \n",
            "Su Mo Tu We Th Fr Sa  Su Mo Tu We Th Fr Sa  Su Mo Tu We Th Fr Sa  \n",
            "                1  2   1  2  3  4  5  6  7            1  2  3  4  \n",
            " 3  4  5  6  7  8  9   8  9 10 11 12 13 14   5  6  7  8  9 10 11  \n",
            "10 11 12 13 14 15 16  15 16 17 18 19 20 21  12 13 14 15 16 17 18  \n",
            "17 18 19 20 21 22 23  22 23 24 25 26 27 28  19 20 21 22 23 24 25  \n",
            "24 25 26 27 28 29 30  29 30 31              26 27 28 29 30        \n",
            "                                                                  \n",
            "\n",
            "        July                 August              September        \n",
            "Su Mo Tu We Th Fr Sa  Su Mo Tu We Th Fr Sa  Su Mo Tu We Th Fr Sa  \n",
            "                1  2      1  2  3  4  5  6               1  2  3  \n",
            " 3  4  5  6  7  8  9   7  8  9 10 11 12 13   4  5  6  7  8  9 10  \n",
            "10 11 12 13 14 15 16  14 15 16 17 18 19 20  11 12 13 14 15 16 17  \n",
            "17 18 19 20 21 22 23  21 22 23 24 25 26 27  18 19 20 21 22 23 24  \n",
            "24 25 26 27 28 29 30  28 29 30 31           25 26 27 28 29 30     \n",
            "31                                                                \n",
            "\n",
            "      October               November              December        \n",
            "Su Mo Tu We Th Fr Sa  Su Mo Tu We Th Fr Sa  Su Mo Tu We Th Fr Sa  \n",
            "                   1         1  2  3  4  5               1  2  3  \n",
            " 2  3  4  5  6  7  8   6  7  8  9 10 11 12   4  5  6  7  8  9 10  \n",
            " 9 10 11 12 13 14 15  13 14 15 16 17 18 19  11 12 13 14 15 16 17  \n",
            "16 17 18 19 20 21 22  20 21 22 23 24 25 26  18 19 20 21 22 23 24  \n",
            "23 24 25 26 27 28 29  27 28 29 30           25 26 27 28 29 30 31  \n",
            "30 31                                                             \n"
          ]
        }
      ],
      "source": [
        "!cal 2022\n"
      ]
    },
    {
      "cell_type": "code",
      "source": [
        "!free -m"
      ],
      "metadata": {
        "colab": {
          "base_uri": "https://localhost:8080/"
        },
        "id": "1PSsTTduKrGK",
        "outputId": "cb8e08fe-b20a-451e-fa83-668f7af2481c"
      },
      "execution_count": 2,
      "outputs": [
        {
          "output_type": "stream",
          "name": "stdout",
          "text": [
            "              total        used        free      shared  buff/cache   available\n",
            "Mem:          12991         522       10647           1        1821       12225\n",
            "Swap:             0           0           0\n"
          ]
        }
      ]
    },
    {
      "cell_type": "code",
      "source": [
        "!whoami\n"
      ],
      "metadata": {
        "colab": {
          "base_uri": "https://localhost:8080/"
        },
        "id": "pVUYWoErKx-5",
        "outputId": "8483b1cc-1c46-4ba4-856c-c1cff9e5eac8"
      },
      "execution_count": 3,
      "outputs": [
        {
          "output_type": "stream",
          "name": "stdout",
          "text": [
            "root\n"
          ]
        }
      ]
    },
    {
      "cell_type": "code",
      "source": [
        "!df\n"
      ],
      "metadata": {
        "colab": {
          "base_uri": "https://localhost:8080/"
        },
        "id": "duDCAOtcK5QV",
        "outputId": "4a41fdab-1708-4fc3-e7a7-bbb43e8cd529"
      },
      "execution_count": 4,
      "outputs": [
        {
          "output_type": "stream",
          "name": "stdout",
          "text": [
            "Filesystem     1K-blocks     Used Available Use% Mounted on\n",
            "overlay        112947452 41433428  71497640  37% /\n",
            "tmpfs              65536        0     65536   0% /dev\n",
            "shm              5989376        0   5989376   0% /dev/shm\n",
            "/dev/root        2003760  1167556    836204  59% /sbin/docker-init\n",
            "tmpfs            6651460       40   6651420   1% /var/colab\n",
            "/dev/sda1       84611628 45342316  39252928  54% /etc/hosts\n",
            "tmpfs            6651460        0   6651460   0% /proc/acpi\n",
            "tmpfs            6651460        0   6651460   0% /proc/scsi\n",
            "tmpfs            6651460        0   6651460   0% /sys/firmware\n"
          ]
        }
      ]
    },
    {
      "cell_type": "code",
      "source": [
        "!last"
      ],
      "metadata": {
        "colab": {
          "base_uri": "https://localhost:8080/"
        },
        "id": "TdS6cWyhK-3y",
        "outputId": "4f153a1c-45cb-4815-fa99-be70b10592f7"
      },
      "execution_count": 5,
      "outputs": [
        {
          "output_type": "stream",
          "name": "stdout",
          "text": [
            "\n",
            "wtmp begins Fri Mar 18 13:22:37 2022\n"
          ]
        }
      ]
    },
    {
      "cell_type": "code",
      "source": [
        "!top"
      ],
      "metadata": {
        "colab": {
          "base_uri": "https://localhost:8080/"
        },
        "id": "sciAlh4uLAdr",
        "outputId": "4c8404a7-1fff-4f26-cd99-20b94c72549e"
      },
      "execution_count": null,
      "outputs": [
        {
          "output_type": "stream",
          "name": "stdout",
          "text": [
            "\u001b[?1h\u001b=\u001b[H\u001b[2J\u001b[mtop - 10:28:54 up 3 min,  0 users,  load average: 0.09, 0.17, 0.08\u001b[m\u001b[m\u001b[m\u001b[m\u001b[K\n",
            "Tasks:\u001b[m\u001b[m\u001b[1m  11 \u001b[m\u001b[mtotal,\u001b[m\u001b[m\u001b[1m   1 \u001b[m\u001b[mrunning,\u001b[m\u001b[m\u001b[1m   9 \u001b[m\u001b[msleeping,\u001b[m\u001b[m\u001b[1m   0 \u001b[m\u001b[mstopped,\u001b[m\u001b[m\u001b[1m   1 \u001b[m\u001b[mzombie\u001b[m\u001b[m\u001b[m\u001b[m\u001b[K\n",
            "%Cpu(s):\u001b[m\u001b[m\u001b[1m  9.5 \u001b[m\u001b[mus,\u001b[m\u001b[m\u001b[1m  4.3 \u001b[m\u001b[msy,\u001b[m\u001b[m\u001b[1m  0.0 \u001b[m\u001b[mni,\u001b[m\u001b[m\u001b[1m 84.0 \u001b[m\u001b[mid,\u001b[m\u001b[m\u001b[1m  2.0 \u001b[m\u001b[mwa,\u001b[m\u001b[m\u001b[1m  0.0 \u001b[m\u001b[mhi,\u001b[m\u001b[m\u001b[1m  0.1 \u001b[m\u001b[msi,\u001b[m\u001b[m\u001b[1m  0.0 \u001b[m\u001b[mst\u001b[m\u001b[m\u001b[m\u001b[m\u001b[K\n",
            "KiB Mem :\u001b[m\u001b[m\u001b[1m 13302920 \u001b[m\u001b[mtotal,\u001b[m\u001b[m\u001b[1m 10846732 \u001b[m\u001b[mfree,\u001b[m\u001b[m\u001b[1m   584408 \u001b[m\u001b[mused,\u001b[m\u001b[m\u001b[1m  1871780 \u001b[m\u001b[mbuff/cache\u001b[m\u001b[m\u001b[m\u001b[m\u001b[K\n",
            "KiB Swap:\u001b[m\u001b[m\u001b[1m        0 \u001b[m\u001b[mtotal,\u001b[m\u001b[m\u001b[1m        0 \u001b[m\u001b[mfree,\u001b[m\u001b[m\u001b[1m        0 \u001b[m\u001b[mused.\u001b[m\u001b[m\u001b[1m 12477400 \u001b[m\u001b[mavail Mem \u001b[m\u001b[m\u001b[m\u001b[m\u001b[K\n",
            "\u001b[K\n",
            "\u001b[7m    PID USER      PR  NI    VIRT    RES    SHR S  %CPU %MEM     TIME+ COMMAND   \u001b[m\u001b[m\u001b[K\n",
            "\u001b[m      1 root      20   0     992      4      0 S   0.0  0.0   0:00.54 docker-i+ \u001b[m\u001b[m\u001b[K\n",
            "\u001b[m      7 root      20   0  339816  49868  32424 S   0.0  0.4   0:00.88 node      \u001b[m\u001b[m\u001b[K\n",
            "\u001b[m     23 root      20   0   35892   4828   3720 S   0.0  0.0   0:00.52 tail      \u001b[m\u001b[m\u001b[K\n",
            "\u001b[m     33 root      20   0       0      0      0 Z   0.0  0.0   0:06.24 python3   \u001b[m\u001b[m\u001b[K\n",
            "\u001b[m     34 root      20   0  160408  41076  13016 S   0.0  0.3   0:00.46 colab-fi+ \u001b[m\u001b[m\u001b[K\n",
            "\u001b[m     47 root      20   0  203828  60688  15988 S   0.0  0.5   0:01.60 jupyter-+ \u001b[m\u001b[m\u001b[K\n",
            "\u001b[m     48 root      20   0  707076   5432   4264 S   0.0  0.0   0:00.02 dap_mult+ \u001b[m\u001b[m\u001b[K\n",
            "\u001b[m     65 root      20   0  469956  94188  24268 S   0.0  0.7   0:01.75 python3   \u001b[m\u001b[m\u001b[K\n",
            "\u001b[m     85 root      20   0  127388  15052   5632 S   0.0  0.1   0:00.03 python3   \u001b[m\u001b[m\u001b[K\n",
            "\u001b[m    102 root      20   0  500048  92008  31540 S   0.0  0.7   0:03.09 node      \u001b[m\u001b[m\u001b[K\n",
            "\u001b[m\u001b[1m    136 root      20   0   63184   6804   5080 R   0.0  0.1   0:00.00 top       \u001b[m\u001b[m\u001b[K\n",
            "\u001b[J\u001b[H\u001b[mtop - 10:28:57 up 3 min,  0 users,  load average: 0.08, 0.16, 0.08\u001b[m\u001b[m\u001b[m\u001b[m\u001b[K\n",
            "Tasks:\u001b[m\u001b[m\u001b[1m  11 \u001b[m\u001b[mtotal,\u001b[m\u001b[m\u001b[1m   1 \u001b[m\u001b[mrunning,\u001b[m\u001b[m\u001b[1m   9 \u001b[m\u001b[msleeping,\u001b[m\u001b[m\u001b[1m   0 \u001b[m\u001b[mstopped,\u001b[m\u001b[m\u001b[1m   1 \u001b[m\u001b[mzombie\u001b[m\u001b[m\u001b[m\u001b[m\u001b[K\n",
            "%Cpu(s):\u001b[m\u001b[m\u001b[1m  1.7 \u001b[m\u001b[mus,\u001b[m\u001b[m\u001b[1m  0.7 \u001b[m\u001b[msy,\u001b[m\u001b[m\u001b[1m  0.0 \u001b[m\u001b[mni,\u001b[m\u001b[m\u001b[1m 97.7 \u001b[m\u001b[mid,\u001b[m\u001b[m\u001b[1m  0.0 \u001b[m\u001b[mwa,\u001b[m\u001b[m\u001b[1m  0.0 \u001b[m\u001b[mhi,\u001b[m\u001b[m\u001b[1m  0.0 \u001b[m\u001b[msi,\u001b[m\u001b[m\u001b[1m  0.0 \u001b[m\u001b[mst\u001b[m\u001b[m\u001b[m\u001b[m\u001b[K\n",
            "KiB Mem :\u001b[m\u001b[m\u001b[1m 13302920 \u001b[m\u001b[mtotal,\u001b[m\u001b[m\u001b[1m 10845700 \u001b[m\u001b[mfree,\u001b[m\u001b[m\u001b[1m   585388 \u001b[m\u001b[mused,\u001b[m\u001b[m\u001b[1m  1871832 \u001b[m\u001b[mbuff/cache\u001b[m\u001b[m\u001b[m\u001b[m\u001b[K\n",
            "KiB Swap:\u001b[m\u001b[m\u001b[1m        0 \u001b[m\u001b[mtotal,\u001b[m\u001b[m\u001b[1m        0 \u001b[m\u001b[mfree,\u001b[m\u001b[m\u001b[1m        0 \u001b[m\u001b[mused.\u001b[m\u001b[m\u001b[1m 12476456 \u001b[m\u001b[mavail Mem \u001b[m\u001b[m\u001b[m\u001b[m\u001b[K\n",
            "\u001b[K\n",
            "\n",
            "\u001b[m      7 root      20   0  339816  50116  32424 S   0.7  0.4   0:00.90 node      \u001b[m\u001b[m\u001b[K\n",
            "\u001b[m     65 root      20   0  469956  94188  24268 S   0.7  0.7   0:01.77 python3   \u001b[m\u001b[m\u001b[K\n",
            "\u001b[m     47 root      20   0  203828  60688  15988 S   0.3  0.5   0:01.61 jupyter-+ \u001b[m\u001b[m\u001b[K\n",
            "\u001b[m     85 root      20   0  127644  15052   5632 S   0.3  0.1   0:00.04 python3   \u001b[m\u001b[m\u001b[K\n",
            "\u001b[m    102 root      20   0  500048  92008  31540 S   0.3  0.7   0:03.10 node      \u001b[m\u001b[m\u001b[K\n",
            "\u001b[m      1 root      20   0     992      4      0 S   0.0  0.0   0:00.54 docker-i+ \u001b[m\u001b[m\u001b[K\n",
            "\u001b[m     23 root      20   0   35892   4828   3720 S   0.0  0.0   0:00.52 tail      \u001b[m\u001b[m\u001b[K\n",
            "\u001b[m     33 root      20   0       0      0      0 Z   0.0  0.0   0:06.24 python3   \u001b[m\u001b[m\u001b[K\n",
            "\u001b[m     34 root      20   0  160408  41076  13016 S   0.0  0.3   0:00.46 colab-fi+ \u001b[m\u001b[m\u001b[K\n",
            "\u001b[m     48 root      20   0  707076   5656   4268 S   0.0  0.0   0:00.02 dap_mult+ \u001b[m\u001b[m\u001b[K\n",
            "\n",
            "\u001b[J\u001b[H\u001b[mtop - 10:29:00 up 3 min,  0 users,  load average: 0.07, 0.16, 0.08\u001b[m\u001b[m\u001b[m\u001b[m\u001b[K\n",
            "\n",
            "%Cpu(s):\u001b[m\u001b[m\u001b[1m  1.7 \u001b[m\u001b[mus,\u001b[m\u001b[m\u001b[1m  1.0 \u001b[m\u001b[msy,\u001b[m\u001b[m\u001b[1m  0.0 \u001b[m\u001b[mni,\u001b[m\u001b[m\u001b[1m 97.2 \u001b[m\u001b[mid,\u001b[m\u001b[m\u001b[1m  0.0 \u001b[m\u001b[mwa,\u001b[m\u001b[m\u001b[1m  0.0 \u001b[m\u001b[mhi,\u001b[m\u001b[m\u001b[1m  0.2 \u001b[m\u001b[msi,\u001b[m\u001b[m\u001b[1m  0.0 \u001b[m\u001b[mst\u001b[m\u001b[m\u001b[m\u001b[m\u001b[K\n",
            "KiB Mem :\u001b[m\u001b[m\u001b[1m 13302920 \u001b[m\u001b[mtotal,\u001b[m\u001b[m\u001b[1m 10843936 \u001b[m\u001b[mfree,\u001b[m\u001b[m\u001b[1m   587152 \u001b[m\u001b[mused,\u001b[m\u001b[m\u001b[1m  1871832 \u001b[m\u001b[mbuff/cache\u001b[m\u001b[m\u001b[m\u001b[m\u001b[K\n",
            "KiB Swap:\u001b[m\u001b[m\u001b[1m        0 \u001b[m\u001b[mtotal,\u001b[m\u001b[m\u001b[1m        0 \u001b[m\u001b[mfree,\u001b[m\u001b[m\u001b[1m        0 \u001b[m\u001b[mused.\u001b[m\u001b[m\u001b[1m 12474700 \u001b[m\u001b[mavail Mem \u001b[m\u001b[m\u001b[m\u001b[m\u001b[K\n",
            "\u001b[K\n",
            "\n",
            "\u001b[m      7 root      20   0  339816  50348  32424 S   0.7  0.4   0:00.92 node      \u001b[m\u001b[m\u001b[K\n",
            "\u001b[m     65 root      20   0  470988  94204  24268 S   0.7  0.7   0:01.79 python3   \u001b[m\u001b[m\u001b[K\n",
            "\u001b[m    102 root      20   0  500048  92008  31540 S   0.3  0.7   0:03.11 node      \u001b[m\u001b[m\u001b[K\n",
            "\u001b[m      1 root      20   0     992      4      0 S   0.0  0.0   0:00.54 docker-i+ \u001b[m\u001b[m\u001b[K\n",
            "\u001b[m     23 root      20   0   35892   4828   3720 S   0.0  0.0   0:00.52 tail      \u001b[m\u001b[m\u001b[K\n",
            "\u001b[m     33 root      20   0       0      0      0 Z   0.0  0.0   0:06.24 python3   \u001b[m\u001b[m\u001b[K\n",
            "\u001b[m     34 root      20   0  160408  41076  13016 S   0.0  0.3   0:00.46 colab-fi+ \u001b[m\u001b[m\u001b[K\n",
            "\u001b[m     47 root      20   0  203828  60692  15988 S   0.0  0.5   0:01.61 jupyter-+ \u001b[m\u001b[m\u001b[K\n",
            "\u001b[m     48 root      20   0  707076   6276   4460 S   0.0  0.0   0:00.02 dap_mult+ \u001b[m\u001b[m\u001b[K\n",
            "\u001b[m     85 root      20   0  127644  15052   5632 S   0.0  0.1   0:00.04 python3   \u001b[m\u001b[m\u001b[K\n",
            "\n",
            "\u001b[J\u001b[H\u001b[mtop - 10:29:03 up 3 min,  0 users,  load average: 0.07, 0.16, 0.08\u001b[m\u001b[m\u001b[m\u001b[m\u001b[K\n",
            "\n",
            "%Cpu(s):\u001b[m\u001b[m\u001b[1m  1.0 \u001b[m\u001b[mus,\u001b[m\u001b[m\u001b[1m  0.7 \u001b[m\u001b[msy,\u001b[m\u001b[m\u001b[1m  0.0 \u001b[m\u001b[mni,\u001b[m\u001b[m\u001b[1m 98.2 \u001b[m\u001b[mid,\u001b[m\u001b[m\u001b[1m  0.2 \u001b[m\u001b[mwa,\u001b[m\u001b[m\u001b[1m  0.0 \u001b[m\u001b[mhi,\u001b[m\u001b[m\u001b[1m  0.0 \u001b[m\u001b[msi,\u001b[m\u001b[m\u001b[1m  0.0 \u001b[m\u001b[mst\u001b[m\u001b[m\u001b[m\u001b[m\u001b[K\n",
            "KiB Mem :\u001b[m\u001b[m\u001b[1m 13302920 \u001b[m\u001b[mtotal,\u001b[m\u001b[m\u001b[1m 10844440 \u001b[m\u001b[mfree,\u001b[m\u001b[m\u001b[1m   586612 \u001b[m\u001b[mused,\u001b[m\u001b[m\u001b[1m  1871868 \u001b[m\u001b[mbuff/cache\u001b[m\u001b[m\u001b[m\u001b[m\u001b[K\n",
            "KiB Swap:\u001b[m\u001b[m\u001b[1m        0 \u001b[m\u001b[mtotal,\u001b[m\u001b[m\u001b[1m        0 \u001b[m\u001b[mfree,\u001b[m\u001b[m\u001b[1m        0 \u001b[m\u001b[mused.\u001b[m\u001b[m\u001b[1m 12475272 \u001b[m\u001b[mavail Mem \u001b[m\u001b[m\u001b[m\u001b[m\u001b[K\n",
            "\u001b[K\n",
            "\n",
            "\u001b[m     65 root      20   0  470988  94204  24268 S   0.7  0.7   0:01.81 python3   \u001b[m\u001b[m\u001b[K\n",
            "\u001b[m     48 root      20   0  707076   6536   4460 S   0.3  0.0   0:00.03 dap_mult+ \u001b[m\u001b[m\u001b[K\n",
            "\u001b[m     85 root      20   0  127644  15340   5696 S   0.3  0.1   0:00.05 python3   \u001b[m\u001b[m\u001b[K\n",
            "\n",
            "\u001b[m      7 root      20   0  339816  49548  32424 S   0.0  0.4   0:00.92 node      \u001b[m\u001b[m\u001b[K\n",
            "\u001b[m     23 root      20   0   35892   4828   3720 S   0.0  0.0   0:00.52 tail      \u001b[m\u001b[m\u001b[K\n",
            "\u001b[m     33 root      20   0       0      0      0 Z   0.0  0.0   0:06.24 python3   \u001b[m\u001b[m\u001b[K\n",
            "\u001b[m     34 root      20   0  160408  41076  13016 S   0.0  0.3   0:00.46 colab-fi+ \u001b[m\u001b[m\u001b[K\n",
            "\u001b[m     47 root      20   0  203828  60692  15988 S   0.0  0.5   0:01.61 jupyter-+ \u001b[m\u001b[m\u001b[K\n",
            "\u001b[m    102 root      20   0  500048  92008  31540 S   0.0  0.7   0:03.11 node      \u001b[m\u001b[m\u001b[K\n",
            "\n",
            "\u001b[J\u001b[H\u001b[mtop - 10:29:06 up 3 min,  0 users,  load average: 0.07, 0.16, 0.08\u001b[m\u001b[m\u001b[m\u001b[m\u001b[K\n",
            "\n",
            "%Cpu(s):\u001b[m\u001b[m\u001b[1m  1.0 \u001b[m\u001b[mus,\u001b[m\u001b[m\u001b[1m  0.8 \u001b[m\u001b[msy,\u001b[m\u001b[m\u001b[1m  0.0 \u001b[m\u001b[mni,\u001b[m\u001b[m\u001b[1m 98.2 \u001b[m\u001b[mid,\u001b[m\u001b[m\u001b[1m  0.0 \u001b[m\u001b[mwa,\u001b[m\u001b[m\u001b[1m  0.0 \u001b[m\u001b[mhi,\u001b[m\u001b[m\u001b[1m  0.0 \u001b[m\u001b[msi,\u001b[m\u001b[m\u001b[1m  0.0 \u001b[m\u001b[mst\u001b[m\u001b[m\u001b[m\u001b[m\u001b[K\n",
            "KiB Mem :\u001b[m\u001b[m\u001b[1m 13302920 \u001b[m\u001b[mtotal,\u001b[m\u001b[m\u001b[1m 10844220 \u001b[m\u001b[mfree,\u001b[m\u001b[m\u001b[1m   586832 \u001b[m\u001b[mused,\u001b[m\u001b[m\u001b[1m  1871868 \u001b[m\u001b[mbuff/cache\u001b[m\u001b[m\u001b[m\u001b[m\u001b[K\n",
            "KiB Swap:\u001b[m\u001b[m\u001b[1m        0 \u001b[m\u001b[mtotal,\u001b[m\u001b[m\u001b[1m        0 \u001b[m\u001b[mfree,\u001b[m\u001b[m\u001b[1m        0 \u001b[m\u001b[mused.\u001b[m\u001b[m\u001b[1m 12475060 \u001b[m\u001b[mavail Mem \u001b[m\u001b[m\u001b[m\u001b[m\u001b[K\n",
            "\u001b[K\n",
            "\n",
            "\u001b[m     65 root      20   0  470988  94204  24268 S   1.0  0.7   0:01.84 python3   \u001b[m\u001b[m\u001b[K\n",
            "\u001b[m      7 root      20   0  339816  49776  32424 S   0.3  0.4   0:00.93 node      \u001b[m\u001b[m\u001b[K\n",
            "\u001b[m     47 root      20   0  203828  60692  15988 S   0.3  0.5   0:01.62 jupyter-+ \u001b[m\u001b[m\u001b[K\n",
            "\u001b[m     85 root      20   0  127900  15480   5696 S   0.3  0.1   0:00.06 python3   \u001b[m\u001b[m\u001b[K\n",
            "\u001b[m      1 root      20   0     992      4      0 S   0.0  0.0   0:00.54 docker-i+ \u001b[m\u001b[m\u001b[K\n",
            "\n",
            "\n",
            "\n",
            "\u001b[m     48 root      20   0  707076   7012   4460 S   0.0  0.1   0:00.03 dap_mult+ \u001b[m\u001b[m\u001b[K\n",
            "\n",
            "\n",
            "\u001b[J\u001b[H\u001b[mtop - 10:29:09 up 3 min,  0 users,  load average: 0.07, 0.16, 0.08\u001b[m\u001b[m\u001b[m\u001b[m\u001b[K\n",
            "\n",
            "%Cpu(s):\u001b[m\u001b[m\u001b[1m  0.7 \u001b[m\u001b[mus,\u001b[m\u001b[m\u001b[1m  0.8 \u001b[m\u001b[msy,\u001b[m\u001b[m\u001b[1m  0.0 \u001b[m\u001b[mni,\u001b[m\u001b[m\u001b[1m 98.3 \u001b[m\u001b[mid,\u001b[m\u001b[m\u001b[1m  0.0 \u001b[m\u001b[mwa,\u001b[m\u001b[m\u001b[1m  0.0 \u001b[m\u001b[mhi,\u001b[m\u001b[m\u001b[1m  0.0 \u001b[m\u001b[msi,\u001b[m\u001b[m\u001b[1m  0.2 \u001b[m\u001b[mst\u001b[m\u001b[m\u001b[m\u001b[m\u001b[K\n",
            "KiB Mem :\u001b[m\u001b[m\u001b[1m 13302920 \u001b[m\u001b[mtotal,\u001b[m\u001b[m\u001b[1m 10843652 \u001b[m\u001b[mfree,\u001b[m\u001b[m\u001b[1m   587400 \u001b[m\u001b[mused,\u001b[m\u001b[m\u001b[1m  1871868 \u001b[m\u001b[mbuff/cache\u001b[m\u001b[m\u001b[m\u001b[m\u001b[K\n",
            "KiB Swap:\u001b[m\u001b[m\u001b[1m        0 \u001b[m\u001b[mtotal,\u001b[m\u001b[m\u001b[1m        0 \u001b[m\u001b[mfree,\u001b[m\u001b[m\u001b[1m        0 \u001b[m\u001b[mused.\u001b[m\u001b[m\u001b[1m 12474500 \u001b[m\u001b[mavail Mem \u001b[m\u001b[m\u001b[m\u001b[m\u001b[K\n",
            "\u001b[K\n",
            "\n",
            "\u001b[m     48 root      20   0  707076   7512   4524 S   0.7  0.1   0:00.05 dap_mult+ \u001b[m\u001b[m\u001b[K\n",
            "\u001b[m     65 root      20   0  470988  94204  24268 S   0.7  0.7   0:01.86 python3   \u001b[m\u001b[m\u001b[K\n",
            "\u001b[m      1 root      20   0     992      4      0 S   0.0  0.0   0:00.54 docker-i+ \u001b[m\u001b[m\u001b[K\n",
            "\u001b[m      7 root      20   0  339816  49776  32424 S   0.0  0.4   0:00.93 node      \u001b[m\u001b[m\u001b[K\n",
            "\u001b[m     23 root      20   0   35892   4828   3720 S   0.0  0.0   0:00.52 tail      \u001b[m\u001b[m\u001b[K\n",
            "\u001b[m     33 root      20   0       0      0      0 Z   0.0  0.0   0:06.24 python3   \u001b[m\u001b[m\u001b[K\n",
            "\u001b[m     34 root      20   0  160408  41076  13016 S   0.0  0.3   0:00.46 colab-fi+ \u001b[m\u001b[m\u001b[K\n",
            "\u001b[m     47 root      20   0  203828  60692  15988 S   0.0  0.5   0:01.62 jupyter-+ \u001b[m\u001b[m\u001b[K\n",
            "\u001b[m     85 root      20   0  127900  15480   5696 S   0.0  0.1   0:00.06 python3   \u001b[m\u001b[m\u001b[K\n",
            "\n",
            "\n",
            "\u001b[J\u001b[H\u001b[mtop - 10:29:12 up 3 min,  0 users,  load average: 0.06, 0.15, 0.08\u001b[m\u001b[m\u001b[m\u001b[m\u001b[K\n",
            "\n",
            "%Cpu(s):\u001b[m\u001b[m\u001b[1m  1.3 \u001b[m\u001b[mus,\u001b[m\u001b[m\u001b[1m  1.0 \u001b[m\u001b[msy,\u001b[m\u001b[m\u001b[1m  0.0 \u001b[m\u001b[mni,\u001b[m\u001b[m\u001b[1m 97.3 \u001b[m\u001b[mid,\u001b[m\u001b[m\u001b[1m  0.2 \u001b[m\u001b[mwa,\u001b[m\u001b[m\u001b[1m  0.0 \u001b[m\u001b[mhi,\u001b[m\u001b[m\u001b[1m  0.2 \u001b[m\u001b[msi,\u001b[m\u001b[m\u001b[1m  0.0 \u001b[m\u001b[mst\u001b[m\u001b[m\u001b[m\u001b[m\u001b[K\n",
            "KiB Mem :\u001b[m\u001b[m\u001b[1m 13302920 \u001b[m\u001b[mtotal,\u001b[m\u001b[m\u001b[1m 10842328 \u001b[m\u001b[mfree,\u001b[m\u001b[m\u001b[1m   588684 \u001b[m\u001b[mused,\u001b[m\u001b[m\u001b[1m  1871908 \u001b[m\u001b[mbuff/cache\u001b[m\u001b[m\u001b[m\u001b[m\u001b[K\n",
            "KiB Swap:\u001b[m\u001b[m\u001b[1m        0 \u001b[m\u001b[mtotal,\u001b[m\u001b[m\u001b[1m        0 \u001b[m\u001b[mfree,\u001b[m\u001b[m\u001b[1m        0 \u001b[m\u001b[mused.\u001b[m\u001b[m\u001b[1m 12473216 \u001b[m\u001b[mavail Mem \u001b[m\u001b[m\u001b[m\u001b[m\u001b[K\n",
            "\u001b[K\n",
            "\n",
            "\u001b[m     65 root      20   0  470988  94204  24268 S   0.7  0.7   0:01.88 python3   \u001b[m\u001b[m\u001b[K\n",
            "\u001b[m     47 root      20   0  203828  60692  15988 S   0.3  0.5   0:01.63 jupyter-+ \u001b[m\u001b[m\u001b[K\n",
            "\u001b[m     85 root      20   0  127900  15480   5696 S   0.3  0.1   0:00.07 python3   \u001b[m\u001b[m\u001b[K\n",
            "\u001b[m      1 root      20   0     992      4      0 S   0.0  0.0   0:00.54 docker-i+ \u001b[m\u001b[m\u001b[K\n",
            "\u001b[m      7 root      20   0  339816  50028  32424 S   0.0  0.4   0:00.93 node      \u001b[m\u001b[m\u001b[K\n",
            "\u001b[m     23 root      20   0   35892   4828   3720 S   0.0  0.0   0:00.52 tail      \u001b[m\u001b[m\u001b[K\n",
            "\u001b[m     33 root      20   0       0      0      0 Z   0.0  0.0   0:06.24 python3   \u001b[m\u001b[m\u001b[K\n",
            "\u001b[m     34 root      20   0  160408  41076  13016 S   0.0  0.3   0:00.46 colab-fi+ \u001b[m\u001b[m\u001b[K\n",
            "\u001b[m     48 root      20   0  707652   8344   4532 S   0.0  0.1   0:00.05 dap_mult+ \u001b[m\u001b[m\u001b[K\n",
            "\n",
            "\n",
            "\u001b[J\u001b[H\u001b[mtop - 10:29:15 up 4 min,  0 users,  load average: 0.06, 0.15, 0.08\u001b[m\u001b[m\u001b[m\u001b[m\u001b[K\n",
            "\n",
            "%Cpu(s):\u001b[m\u001b[m\u001b[1m  1.0 \u001b[m\u001b[mus,\u001b[m\u001b[m\u001b[1m  0.8 \u001b[m\u001b[msy,\u001b[m\u001b[m\u001b[1m  0.0 \u001b[m\u001b[mni,\u001b[m\u001b[m\u001b[1m 98.2 \u001b[m\u001b[mid,\u001b[m\u001b[m\u001b[1m  0.0 \u001b[m\u001b[mwa,\u001b[m\u001b[m\u001b[1m  0.0 \u001b[m\u001b[mhi,\u001b[m\u001b[m\u001b[1m  0.0 \u001b[m\u001b[msi,\u001b[m\u001b[m\u001b[1m  0.0 \u001b[m\u001b[mst\u001b[m\u001b[m\u001b[m\u001b[m\u001b[K\n",
            "KiB Mem :\u001b[m\u001b[m\u001b[1m 13302920 \u001b[m\u001b[mtotal,\u001b[m\u001b[m\u001b[1m 10840596 \u001b[m\u001b[mfree,\u001b[m\u001b[m\u001b[1m   590416 \u001b[m\u001b[mused,\u001b[m\u001b[m\u001b[1m  1871908 \u001b[m\u001b[mbuff/cache\u001b[m\u001b[m\u001b[m\u001b[m\u001b[K\n",
            "KiB Swap:\u001b[m\u001b[m\u001b[1m        0 \u001b[m\u001b[mtotal,\u001b[m\u001b[m\u001b[1m        0 \u001b[m\u001b[mfree,\u001b[m\u001b[m\u001b[1m        0 \u001b[m\u001b[mused.\u001b[m\u001b[m\u001b[1m 12471492 \u001b[m\u001b[mavail Mem \u001b[m\u001b[m\u001b[m\u001b[m\u001b[K\n",
            "\u001b[K\n",
            "\n",
            "\u001b[m     65 root      20   0  470988  94204  24268 S   1.0  0.7   0:01.91 python3   \u001b[m\u001b[m\u001b[K\n",
            "\u001b[m      7 root      20   0  339816  50028  32424 S   0.3  0.4   0:00.94 node      \u001b[m\u001b[m\u001b[K\n",
            "\u001b[m     48 root      20   0  707652   8808   4532 S   0.3  0.1   0:00.06 dap_mult+ \u001b[m\u001b[m\u001b[K\n",
            "\u001b[m     85 root      20   0  127900  15480   5696 S   0.3  0.1   0:00.08 python3   \u001b[m\u001b[m\u001b[K\n",
            "\u001b[m      1 root      20   0     992      4      0 S   0.0  0.0   0:00.54 docker-i+ \u001b[m\u001b[m\u001b[K\n",
            "\n",
            "\n",
            "\n",
            "\u001b[m     47 root      20   0  203828  60704  15988 S   0.0  0.5   0:01.63 jupyter-+ \u001b[m\u001b[m\u001b[K\n",
            "\n",
            "\n",
            "\u001b[J\u001b[H\u001b[mtop - 10:29:18 up 4 min,  0 users,  load average: 0.06, 0.15, 0.08\u001b[m\u001b[m\u001b[m\u001b[m\u001b[K\n",
            "\n",
            "%Cpu(s):\u001b[m\u001b[m\u001b[1m  1.2 \u001b[m\u001b[mus,\u001b[m\u001b[m\u001b[1m  0.7 \u001b[m\u001b[msy,\u001b[m\u001b[m\u001b[1m  0.0 \u001b[m\u001b[mni,\u001b[m\u001b[m\u001b[1m 98.2 \u001b[m\u001b[mid,\u001b[m\u001b[m\u001b[1m  0.0 \u001b[m\u001b[mwa,\u001b[m\u001b[m\u001b[1m  0.0 \u001b[m\u001b[mhi,\u001b[m\u001b[m\u001b[1m  0.0 \u001b[m\u001b[msi,\u001b[m\u001b[m\u001b[1m  0.0 \u001b[m\u001b[mst\u001b[m\u001b[m\u001b[m\u001b[m\u001b[K\n",
            "KiB Mem :\u001b[m\u001b[m\u001b[1m 13302920 \u001b[m\u001b[mtotal,\u001b[m\u001b[m\u001b[1m 10840344 \u001b[m\u001b[mfree,\u001b[m\u001b[m\u001b[1m   590668 \u001b[m\u001b[mused,\u001b[m\u001b[m\u001b[1m  1871908 \u001b[m\u001b[mbuff/cache\u001b[m\u001b[m\u001b[m\u001b[m\u001b[K\n",
            "KiB Swap:\u001b[m\u001b[m\u001b[1m        0 \u001b[m\u001b[mtotal,\u001b[m\u001b[m\u001b[1m        0 \u001b[m\u001b[mfree,\u001b[m\u001b[m\u001b[1m        0 \u001b[m\u001b[mused.\u001b[m\u001b[m\u001b[1m 12471240 \u001b[m\u001b[mavail Mem \u001b[m\u001b[m\u001b[m\u001b[m\u001b[K\n",
            "\u001b[K\n",
            "\n",
            "\u001b[m     65 root      20   0  470988  94296  24268 S   0.7  0.7   0:01.93 python3   \u001b[m\u001b[m\u001b[K\n",
            "\u001b[m     47 root      20   0  203828  60704  15988 S   0.3  0.5   0:01.64 jupyter-+ \u001b[m\u001b[m\u001b[K\n",
            "\u001b[m     85 root      20   0  127900  15480   5696 S   0.3  0.1   0:00.09 python3   \u001b[m\u001b[m\u001b[K\n",
            "\u001b[m\u001b[1m    136 root      20   0   63184   6804   5080 R   0.3  0.1   0:00.01 top       \u001b[m\u001b[m\u001b[K\n",
            "\n",
            "\u001b[m      7 root      20   0  339816  50028  32424 S   0.0  0.4   0:00.94 node      \u001b[m\u001b[m\u001b[K\n",
            "\u001b[m     23 root      20   0   35892   4828   3720 S   0.0  0.0   0:00.52 tail      \u001b[m\u001b[m\u001b[K\n",
            "\u001b[m     33 root      20   0       0      0      0 Z   0.0  0.0   0:06.24 python3   \u001b[m\u001b[m\u001b[K\n",
            "\u001b[m     34 root      20   0  160408  41076  13016 S   0.0  0.3   0:00.46 colab-fi+ \u001b[m\u001b[m\u001b[K\n",
            "\u001b[m     48 root      20   0  707652   9052   4532 S   0.0  0.1   0:00.06 dap_mult+ \u001b[m\u001b[m\u001b[K\n",
            "\u001b[m    102 root      20   0  500048  92008  31540 S   0.0  0.7   0:03.11 node      \u001b[m\u001b[m\u001b[K\n",
            "\u001b[J\u001b[H\u001b[mtop - 10:29:21 up 4 min,  0 users,  load average: 0.05, 0.15, 0.08\u001b[m\u001b[m\u001b[m\u001b[m\u001b[K\n",
            "\n",
            "%Cpu(s):\u001b[m\u001b[m\u001b[1m  1.3 \u001b[m\u001b[mus,\u001b[m\u001b[m\u001b[1m  0.8 \u001b[m\u001b[msy,\u001b[m\u001b[m\u001b[1m  0.0 \u001b[m\u001b[mni,\u001b[m\u001b[m\u001b[1m 97.8 \u001b[m\u001b[mid,\u001b[m\u001b[m\u001b[1m  0.0 \u001b[m\u001b[mwa,\u001b[m\u001b[m\u001b[1m  0.0 \u001b[m\u001b[mhi,\u001b[m\u001b[m\u001b[1m  0.0 \u001b[m\u001b[msi,\u001b[m\u001b[m\u001b[1m  0.0 \u001b[m\u001b[mst\u001b[m\u001b[m\u001b[m\u001b[m\u001b[K\n",
            "KiB Mem :\u001b[m\u001b[m\u001b[1m 13302920 \u001b[m\u001b[mtotal,\u001b[m\u001b[m\u001b[1m 10839084 \u001b[m\u001b[mfree,\u001b[m\u001b[m\u001b[1m   591928 \u001b[m\u001b[mused,\u001b[m\u001b[m\u001b[1m  1871908 \u001b[m\u001b[mbuff/cache\u001b[m\u001b[m\u001b[m\u001b[m\u001b[K\n",
            "KiB Swap:\u001b[m\u001b[m\u001b[1m        0 \u001b[m\u001b[mtotal,\u001b[m\u001b[m\u001b[1m        0 \u001b[m\u001b[mfree,\u001b[m\u001b[m\u001b[1m        0 \u001b[m\u001b[mused.\u001b[m\u001b[m\u001b[1m 12470000 \u001b[m\u001b[mavail Mem \u001b[m\u001b[m\u001b[m\u001b[m\u001b[K\n",
            "\u001b[K\n",
            "\n",
            "\u001b[m     65 root      20   0  470988  94324  24268 S   0.7  0.7   0:01.95 python3   \u001b[m\u001b[m\u001b[K\n",
            "\u001b[m      7 root      20   0  339816  50292  32424 S   0.3  0.4   0:00.95 node      \u001b[m\u001b[m\u001b[K\n",
            "\u001b[m     48 root      20   0  707652   9288   4532 S   0.3  0.1   0:00.07 dap_mult+ \u001b[m\u001b[m\u001b[K\n",
            "\u001b[m     85 root      20   0  128156  15800   5696 S   0.3  0.1   0:00.10 python3   \u001b[m\u001b[m\u001b[K\n",
            "\n",
            "\u001b[m     23 root      20   0   35892   4828   3720 S   0.0  0.0   0:00.52 tail      \u001b[m\u001b[m\u001b[K\n",
            "\u001b[m     33 root      20   0       0      0      0 Z   0.0  0.0   0:06.24 python3   \u001b[m\u001b[m\u001b[K\n",
            "\u001b[m     34 root      20   0  160408  41076  13016 S   0.0  0.3   0:00.46 colab-fi+ \u001b[m\u001b[m\u001b[K\n",
            "\u001b[m     47 root      20   0  203828  60704  15988 S   0.0  0.5   0:01.64 jupyter-+ \u001b[m\u001b[m\u001b[K\n",
            "\u001b[m    102 root      20   0  500048  92008  31540 S   0.0  0.7   0:03.11 node      \u001b[m\u001b[m\u001b[K\n",
            "\u001b[m\u001b[1m    136 root      20   0   63184   6804   5080 R   0.0  0.1   0:00.01 top       \u001b[m\u001b[m\u001b[K\n",
            "\u001b[J\u001b[H\u001b[mtop - 10:29:24 up 4 min,  0 users,  load average: 0.05, 0.15, 0.08\u001b[m\u001b[m\u001b[m\u001b[m\u001b[K\n",
            "\n",
            "\n",
            "KiB Mem :\u001b[m\u001b[m\u001b[1m 13302920 \u001b[m\u001b[mtotal,\u001b[m\u001b[m\u001b[1m 10838516 \u001b[m\u001b[mfree,\u001b[m\u001b[m\u001b[1m   592488 \u001b[m\u001b[mused,\u001b[m\u001b[m\u001b[1m  1871916 \u001b[m\u001b[mbuff/cache\u001b[m\u001b[m\u001b[m\u001b[m\u001b[K\n",
            "KiB Swap:\u001b[m\u001b[m\u001b[1m        0 \u001b[m\u001b[mtotal,\u001b[m\u001b[m\u001b[1m        0 \u001b[m\u001b[mfree,\u001b[m\u001b[m\u001b[1m        0 \u001b[m\u001b[mused.\u001b[m\u001b[m\u001b[1m 12469440 \u001b[m\u001b[mavail Mem \u001b[m\u001b[m\u001b[m\u001b[m\u001b[K\n",
            "\u001b[K\n",
            "\n",
            "\u001b[m     65 root      20   0  470988  94324  24268 S   1.0  0.7   0:01.98 python3   \u001b[m\u001b[m\u001b[K\n",
            "\u001b[m     85 root      20   0  128156  15800   5696 S   0.3  0.1   0:00.11 python3   \u001b[m\u001b[m\u001b[K\n",
            "\u001b[m      1 root      20   0     992      4      0 S   0.0  0.0   0:00.54 docker-i+ \u001b[m\u001b[m\u001b[K\n",
            "\u001b[m      7 root      20   0  339816  50292  32424 S   0.0  0.4   0:00.95 node      \u001b[m\u001b[m\u001b[K\n",
            "\u001b[m     23 root      20   0   35892   4828   3720 S   0.0  0.0   0:00.52 tail      \u001b[m\u001b[m\u001b[K\n",
            "\u001b[m     33 root      20   0       0      0      0 Z   0.0  0.0   0:06.24 python3   \u001b[m\u001b[m\u001b[K\n",
            "\u001b[m     34 root      20   0  160408  41076  13016 S   0.0  0.3   0:00.46 colab-fi+ \u001b[m\u001b[m\u001b[K\n",
            "\u001b[m     47 root      20   0  203828  60704  15988 S   0.0  0.5   0:01.64 jupyter-+ \u001b[m\u001b[m\u001b[K\n",
            "\u001b[m     48 root      20   0  707652   9552   4532 S   0.0  0.1   0:00.07 dap_mult+ \u001b[m\u001b[m\u001b[K\n",
            "\n",
            "\n",
            "\u001b[J\u001b[H\u001b[mtop - 10:29:27 up 4 min,  0 users,  load average: 0.05, 0.15, 0.08\u001b[m\u001b[m\u001b[m\u001b[m\u001b[K\n",
            "\n",
            "%Cpu(s):\u001b[m\u001b[m\u001b[1m  1.0 \u001b[m\u001b[mus,\u001b[m\u001b[m\u001b[1m  0.7 \u001b[m\u001b[msy,\u001b[m\u001b[m\u001b[1m  0.0 \u001b[m\u001b[mni,\u001b[m\u001b[m\u001b[1m 98.2 \u001b[m\u001b[mid,\u001b[m\u001b[m\u001b[1m  0.0 \u001b[m\u001b[mwa,\u001b[m\u001b[m\u001b[1m  0.0 \u001b[m\u001b[mhi,\u001b[m\u001b[m\u001b[1m  0.2 \u001b[m\u001b[msi,\u001b[m\u001b[m\u001b[1m  0.0 \u001b[m\u001b[mst\u001b[m\u001b[m\u001b[m\u001b[m\u001b[K\n",
            "\n",
            "\n",
            "\u001b[K\n",
            "\n",
            "\u001b[m     65 root      20   0  470988  94324  24268 S   0.7  0.7   0:02.00 python3   \u001b[m\u001b[m\u001b[K\n",
            "\u001b[m     47 root      20   0  203828  60704  15988 S   0.3  0.5   0:01.65 jupyter-+ \u001b[m\u001b[m\u001b[K\n",
            "\u001b[m     85 root      20   0  128156  15800   5696 S   0.3  0.1   0:00.12 python3   \u001b[m\u001b[m\u001b[K\n",
            "\u001b[m\u001b[1m    136 root      20   0   63184   6804   5080 R   0.3  0.1   0:00.02 top       \u001b[m\u001b[m\u001b[K\n",
            "\u001b[m      1 root      20   0     992      4      0 S   0.0  0.0   0:00.54 docker-i+ \u001b[m\u001b[m\u001b[K\n",
            "\u001b[m      7 root      20   0  339816  50292  32424 S   0.0  0.4   0:00.95 node      \u001b[m\u001b[m\u001b[K\n",
            "\u001b[m     23 root      20   0   35892   4828   3720 S   0.0  0.0   0:00.52 tail      \u001b[m\u001b[m\u001b[K\n",
            "\u001b[m     33 root      20   0       0      0      0 Z   0.0  0.0   0:06.24 python3   \u001b[m\u001b[m\u001b[K\n",
            "\u001b[m     34 root      20   0  160408  41076  13016 S   0.0  0.3   0:00.46 colab-fi+ \u001b[m\u001b[m\u001b[K\n",
            "\u001b[m     48 root      20   0  707652   9552   4532 S   0.0  0.1   0:00.07 dap_mult+ \u001b[m\u001b[m\u001b[K\n",
            "\u001b[m    102 root      20   0  500048  92008  31540 S   0.0  0.7   0:03.11 node      \u001b[m\u001b[m\u001b[K\n",
            "\u001b[J\u001b[H\u001b[mtop - 10:29:30 up 4 min,  0 users,  load average: 0.04, 0.14, 0.08\u001b[m\u001b[m\u001b[m\u001b[m\u001b[K\n",
            "\n",
            "%Cpu(s):\u001b[m\u001b[m\u001b[1m  1.4 \u001b[m\u001b[mus,\u001b[m\u001b[m\u001b[1m  0.8 \u001b[m\u001b[msy,\u001b[m\u001b[m\u001b[1m  0.0 \u001b[m\u001b[mni,\u001b[m\u001b[m\u001b[1m 97.5 \u001b[m\u001b[mid,\u001b[m\u001b[m\u001b[1m  0.2 \u001b[m\u001b[mwa,\u001b[m\u001b[m\u001b[1m  0.0 \u001b[m\u001b[mhi,\u001b[m\u001b[m\u001b[1m  0.0 \u001b[m\u001b[msi,\u001b[m\u001b[m\u001b[1m  0.2 \u001b[m\u001b[mst\u001b[m\u001b[m\u001b[m\u001b[m\u001b[K\n",
            "KiB Mem :\u001b[m\u001b[m\u001b[1m 13302920 \u001b[m\u001b[mtotal,\u001b[m\u001b[m\u001b[1m 10838736 \u001b[m\u001b[mfree,\u001b[m\u001b[m\u001b[1m   592204 \u001b[m\u001b[mused,\u001b[m\u001b[m\u001b[1m  1871980 \u001b[m\u001b[mbuff/cache\u001b[m\u001b[m\u001b[m\u001b[m\u001b[K\n",
            "KiB Swap:\u001b[m\u001b[m\u001b[1m        0 \u001b[m\u001b[mtotal,\u001b[m\u001b[m\u001b[1m        0 \u001b[m\u001b[mfree,\u001b[m\u001b[m\u001b[1m        0 \u001b[m\u001b[mused.\u001b[m\u001b[m\u001b[1m 12477440 \u001b[m\u001b[mavail Mem \u001b[m\u001b[m\u001b[m\u001b[m\u001b[K\n",
            "\u001b[K\n",
            "\n",
            "\u001b[m     65 root      20   0  470988  94324  24268 S   0.7  0.7   0:02.02 python3   \u001b[m\u001b[m\u001b[K\n",
            "\u001b[m     85 root      20   0  128156  15800   5696 S   0.3  0.1   0:00.13 python3   \u001b[m\u001b[m\u001b[K\n",
            "\u001b[m      1 root      20   0     992      4      0 S   0.0  0.0   0:00.54 docker-i+ \u001b[m\u001b[m\u001b[K\n",
            "\u001b[m      7 root      20   0  339816  49716  32424 S   0.0  0.4   0:00.95 node      \u001b[m\u001b[m\u001b[K\n",
            "\u001b[m     23 root      20   0   35892   4828   3720 S   0.0  0.0   0:00.52 tail      \u001b[m\u001b[m\u001b[K\n",
            "\u001b[m     33 root      20   0       0      0      0 Z   0.0  0.0   0:06.24 python3   \u001b[m\u001b[m\u001b[K\n",
            "\u001b[m     34 root      20   0  160408  41076  13016 S   0.0  0.3   0:00.46 colab-fi+ \u001b[m\u001b[m\u001b[K\n",
            "\u001b[m     47 root      20   0  203828  60704  15988 S   0.0  0.5   0:01.65 jupyter-+ \u001b[m\u001b[m\u001b[K\n",
            "\u001b[m     48 root      20   0  707652   9552   4532 S   0.0  0.1   0:00.07 dap_mult+ \u001b[m\u001b[m\u001b[K\n",
            "\u001b[m    102 root      20   0  500048  92008  31540 S   0.0  0.7   0:03.11 node      \u001b[m\u001b[m\u001b[K\n",
            "\u001b[m\u001b[1m    136 root      20   0   63184   6804   5080 R   0.0  0.1   0:00.02 top       \u001b[m\u001b[m\u001b[K\n",
            "\u001b[J\u001b[H\u001b[mtop - 10:29:33 up 4 min,  0 users,  load average: 0.04, 0.14, 0.08\u001b[m\u001b[m\u001b[m\u001b[m\u001b[K\n",
            "\n",
            "%Cpu(s):\u001b[m\u001b[m\u001b[1m  1.7 \u001b[m\u001b[mus,\u001b[m\u001b[m\u001b[1m  1.2 \u001b[m\u001b[msy,\u001b[m\u001b[m\u001b[1m  0.0 \u001b[m\u001b[mni,\u001b[m\u001b[m\u001b[1m 97.0 \u001b[m\u001b[mid,\u001b[m\u001b[m\u001b[1m  0.0 \u001b[m\u001b[mwa,\u001b[m\u001b[m\u001b[1m  0.0 \u001b[m\u001b[mhi,\u001b[m\u001b[m\u001b[1m  0.2 \u001b[m\u001b[msi,\u001b[m\u001b[m\u001b[1m  0.0 \u001b[m\u001b[mst\u001b[m\u001b[m\u001b[m\u001b[m\u001b[K\n",
            "KiB Mem :\u001b[m\u001b[m\u001b[1m 13302920 \u001b[m\u001b[mtotal,\u001b[m\u001b[m\u001b[1m 10837948 \u001b[m\u001b[mfree,\u001b[m\u001b[m\u001b[1m   592988 \u001b[m\u001b[mused,\u001b[m\u001b[m\u001b[1m  1871984 \u001b[m\u001b[mbuff/cache\u001b[m\u001b[m\u001b[m\u001b[m\u001b[K\n",
            "KiB Swap:\u001b[m\u001b[m\u001b[1m        0 \u001b[m\u001b[mtotal,\u001b[m\u001b[m\u001b[1m        0 \u001b[m\u001b[mfree,\u001b[m\u001b[m\u001b[1m        0 \u001b[m\u001b[mused.\u001b[m\u001b[m\u001b[1m 12476772 \u001b[m\u001b[mavail Mem \u001b[m\u001b[m\u001b[m\u001b[m\u001b[K\n",
            "\u001b[K\n",
            "\n",
            "\u001b[m     65 root      20   0  470988  94324  24268 S   1.0  0.7   0:02.05 python3   \u001b[m\u001b[m\u001b[K\n",
            "\u001b[m     47 root      20   0  203828  60704  15988 S   0.7  0.5   0:01.67 jupyter-+ \u001b[m\u001b[m\u001b[K\n",
            "\u001b[m      7 root      20   0  339816  49716  32424 S   0.3  0.4   0:00.96 node      \u001b[m\u001b[m\u001b[K\n",
            "\u001b[m     48 root      20   0  707652   9552   4532 S   0.3  0.1   0:00.08 dap_mult+ \u001b[m\u001b[m\u001b[K\n",
            "\u001b[m      1 root      20   0     992      4      0 S   0.0  0.0   0:00.54 docker-i+ \u001b[m\u001b[m\u001b[K\n",
            "\u001b[m     23 root      20   0   35892   4828   3720 S   0.0  0.0   0:00.52 tail      \u001b[m\u001b[m\u001b[K\n",
            "\u001b[m     33 root      20   0       0      0      0 Z   0.0  0.0   0:06.24 python3   \u001b[m\u001b[m\u001b[K\n",
            "\u001b[m     34 root      20   0  160408  41076  13016 S   0.0  0.3   0:00.46 colab-fi+ \u001b[m\u001b[m\u001b[K\n",
            "\u001b[m     85 root      20   0  128156  15800   5696 S   0.0  0.1   0:00.13 python3   \u001b[m\u001b[m\u001b[K\n",
            "\n",
            "\n",
            "\u001b[J\u001b[H\u001b[mtop - 10:29:36 up 4 min,  0 users,  load average: 0.04, 0.14, 0.08\u001b[m\u001b[m\u001b[m\u001b[m\u001b[K\n",
            "\n",
            "%Cpu(s):\u001b[m\u001b[m\u001b[1m  1.0 \u001b[m\u001b[mus,\u001b[m\u001b[m\u001b[1m  0.8 \u001b[m\u001b[msy,\u001b[m\u001b[m\u001b[1m  0.0 \u001b[m\u001b[mni,\u001b[m\u001b[m\u001b[1m 98.2 \u001b[m\u001b[mid,\u001b[m\u001b[m\u001b[1m  0.0 \u001b[m\u001b[mwa,\u001b[m\u001b[m\u001b[1m  0.0 \u001b[m\u001b[mhi,\u001b[m\u001b[m\u001b[1m  0.0 \u001b[m\u001b[msi,\u001b[m\u001b[m\u001b[1m  0.0 \u001b[m\u001b[mst\u001b[m\u001b[m\u001b[m\u001b[m\u001b[K\n",
            "KiB Mem :\u001b[m\u001b[m\u001b[1m 13302920 \u001b[m\u001b[mtotal,\u001b[m\u001b[m\u001b[1m 10838404 \u001b[m\u001b[mfree,\u001b[m\u001b[m\u001b[1m   592516 \u001b[m\u001b[mused,\u001b[m\u001b[m\u001b[1m  1872000 \u001b[m\u001b[mbuff/cache\u001b[m\u001b[m\u001b[m\u001b[m\u001b[K\n",
            "KiB Swap:\u001b[m\u001b[m\u001b[1m        0 \u001b[m\u001b[mtotal,\u001b[m\u001b[m\u001b[1m        0 \u001b[m\u001b[mfree,\u001b[m\u001b[m\u001b[1m        0 \u001b[m\u001b[mused.\u001b[m\u001b[m\u001b[1m 12477244 \u001b[m\u001b[mavail Mem \u001b[m\u001b[m\u001b[m\u001b[m\u001b[K\n",
            "\u001b[K\n",
            "\n",
            "\u001b[m     65 root      20   0  470988  94324  24268 S   0.7  0.7   0:02.07 python3   \u001b[m\u001b[m\u001b[K\n",
            "\u001b[m      7 root      20   0  339816  49968  32424 S   0.3  0.4   0:00.97 node      \u001b[m\u001b[m\u001b[K\n",
            "\u001b[m     48 root      20   0  707652   9816   4532 S   0.3  0.1   0:00.09 dap_mult+ \u001b[m\u001b[m\u001b[K\n",
            "\u001b[m     85 root      20   0  128156  15800   5696 S   0.3  0.1   0:00.14 python3   \u001b[m\u001b[m\u001b[K\n",
            "\n",
            "\n",
            "\n",
            "\n",
            "\u001b[m     47 root      20   0  203828  60704  15988 S   0.0  0.5   0:01.67 jupyter-+ \u001b[m\u001b[m\u001b[K\n",
            "\n",
            "\n",
            "\u001b[J\u001b[H\u001b[mtop - 10:29:39 up 4 min,  0 users,  load average: 0.04, 0.14, 0.08\u001b[m\u001b[m\u001b[m\u001b[m\u001b[K\n",
            "\n",
            "\n",
            "KiB Mem :\u001b[m\u001b[m\u001b[1m 13302920 \u001b[m\u001b[mtotal,\u001b[m\u001b[m\u001b[1m 10837712 \u001b[m\u001b[mfree,\u001b[m\u001b[m\u001b[1m   593240 \u001b[m\u001b[mused,\u001b[m\u001b[m\u001b[1m  1871968 \u001b[m\u001b[mbuff/cache\u001b[m\u001b[m\u001b[m\u001b[m\u001b[K\n",
            "KiB Swap:\u001b[m\u001b[m\u001b[1m        0 \u001b[m\u001b[mtotal,\u001b[m\u001b[m\u001b[1m        0 \u001b[m\u001b[mfree,\u001b[m\u001b[m\u001b[1m        0 \u001b[m\u001b[mused.\u001b[m\u001b[m\u001b[1m 12476644 \u001b[m\u001b[mavail Mem \u001b[m\u001b[m\u001b[m\u001b[m\u001b[K\n",
            "\u001b[K\n",
            "\n",
            "\u001b[m     65 root      20   0  470988  94324  24268 S   1.0  0.7   0:02.10 python3   \u001b[m\u001b[m\u001b[K\n",
            "\u001b[m     85 root      20   0  128156  15800   5696 S   0.3  0.1   0:00.15 python3   \u001b[m\u001b[m\u001b[K\n",
            "\u001b[m      1 root      20   0     992      4      0 S   0.0  0.0   0:00.54 docker-i+ \u001b[m\u001b[m\u001b[K\n",
            "\u001b[m      7 root      20   0  339816  49968  32424 S   0.0  0.4   0:00.97 node      \u001b[m\u001b[m\u001b[K\n",
            "\u001b[m     23 root      20   0   35892   4828   3720 S   0.0  0.0   0:00.52 tail      \u001b[m\u001b[m\u001b[K\n",
            "\u001b[m     33 root      20   0       0      0      0 Z   0.0  0.0   0:06.24 python3   \u001b[m\u001b[m\u001b[K\n",
            "\u001b[m     34 root      20   0  160408  41076  13016 S   0.0  0.3   0:00.46 colab-fi+ \u001b[m\u001b[m\u001b[K\n",
            "\u001b[m     47 root      20   0  203828  60704  15988 S   0.0  0.5   0:01.67 jupyter-+ \u001b[m\u001b[m\u001b[K\n",
            "\u001b[m     48 root      20   0  708228  10028   4532 S   0.0  0.1   0:00.09 dap_mult+ \u001b[m\u001b[m\u001b[K\n",
            "\n",
            "\n",
            "\u001b[J\u001b[H\u001b[mtop - 10:29:42 up 4 min,  0 users,  load average: 0.04, 0.14, 0.08\u001b[m\u001b[m\u001b[m\u001b[m\u001b[K\n",
            "\n",
            "%Cpu(s):\u001b[m\u001b[m\u001b[1m  1.2 \u001b[m\u001b[mus,\u001b[m\u001b[m\u001b[1m  0.7 \u001b[m\u001b[msy,\u001b[m\u001b[m\u001b[1m  0.0 \u001b[m\u001b[mni,\u001b[m\u001b[m\u001b[1m 97.8 \u001b[m\u001b[mid,\u001b[m\u001b[m\u001b[1m  0.2 \u001b[m\u001b[mwa,\u001b[m\u001b[m\u001b[1m  0.0 \u001b[m\u001b[mhi,\u001b[m\u001b[m\u001b[1m  0.2 \u001b[m\u001b[msi,\u001b[m\u001b[m\u001b[1m  0.0 \u001b[m\u001b[mst\u001b[m\u001b[m\u001b[m\u001b[m\u001b[K\n",
            "KiB Mem :\u001b[m\u001b[m\u001b[1m 13302920 \u001b[m\u001b[mtotal,\u001b[m\u001b[m\u001b[1m 10837272 \u001b[m\u001b[mfree,\u001b[m\u001b[m\u001b[1m   593680 \u001b[m\u001b[mused,\u001b[m\u001b[m\u001b[1m  1871968 \u001b[m\u001b[mbuff/cache\u001b[m\u001b[m\u001b[m\u001b[m\u001b[K\n",
            "KiB Swap:\u001b[m\u001b[m\u001b[1m        0 \u001b[m\u001b[mtotal,\u001b[m\u001b[m\u001b[1m        0 \u001b[m\u001b[mfree,\u001b[m\u001b[m\u001b[1m        0 \u001b[m\u001b[mused.\u001b[m\u001b[m\u001b[1m 12476332 \u001b[m\u001b[mavail Mem \u001b[m\u001b[m\u001b[m\u001b[m\u001b[K\n",
            "\u001b[K\n",
            "\n",
            "\u001b[m     65 root      20   0  470988  94324  24268 S   0.7  0.7   0:02.12 python3   \u001b[m\u001b[m\u001b[K\n",
            "\u001b[m     47 root      20   0  203828  60704  15988 S   0.3  0.5   0:01.68 jupyter-+ \u001b[m\u001b[m\u001b[K\n",
            "\u001b[m     48 root      20   0  708228  10028   4532 S   0.3  0.1   0:00.10 dap_mult+ \u001b[m\u001b[m\u001b[K\n",
            "\u001b[m     85 root      20   0  128156  15800   5696 S   0.3  0.1   0:00.16 python3   \u001b[m\u001b[m\u001b[K\n",
            "\u001b[m      1 root      20   0     992      4      0 S   0.0  0.0   0:00.54 docker-i+ \u001b[m\u001b[m\u001b[K\n",
            "\u001b[m      7 root      20   0  339816  49968  32424 S   0.0  0.4   0:00.97 node      \u001b[m\u001b[m\u001b[K\n",
            "\u001b[m     23 root      20   0   35892   4828   3720 S   0.0  0.0   0:00.52 tail      \u001b[m\u001b[m\u001b[K\n",
            "\u001b[m     33 root      20   0       0      0      0 Z   0.0  0.0   0:06.24 python3   \u001b[m\u001b[m\u001b[K\n",
            "\u001b[m     34 root      20   0  160408  41076  13016 S   0.0  0.3   0:00.46 colab-fi+ \u001b[m\u001b[m\u001b[K\n",
            "\n",
            "\n",
            "\u001b[J\u001b[H\u001b[mtop - 10:29:45 up 4 min,  0 users,  load average: 0.03, 0.14, 0.08\u001b[m\u001b[m\u001b[m\u001b[m\u001b[K\n",
            "\n",
            "%Cpu(s):\u001b[m\u001b[m\u001b[1m  1.3 \u001b[m\u001b[mus,\u001b[m\u001b[m\u001b[1m  0.8 \u001b[m\u001b[msy,\u001b[m\u001b[m\u001b[1m  0.0 \u001b[m\u001b[mni,\u001b[m\u001b[m\u001b[1m 97.8 \u001b[m\u001b[mid,\u001b[m\u001b[m\u001b[1m  0.0 \u001b[m\u001b[mwa,\u001b[m\u001b[m\u001b[1m  0.0 \u001b[m\u001b[mhi,\u001b[m\u001b[m\u001b[1m  0.0 \u001b[m\u001b[msi,\u001b[m\u001b[m\u001b[1m  0.0 \u001b[m\u001b[mst\u001b[m\u001b[m\u001b[m\u001b[m\u001b[K\n",
            "KiB Mem :\u001b[m\u001b[m\u001b[1m 13302920 \u001b[m\u001b[mtotal,\u001b[m\u001b[m\u001b[1m 10837460 \u001b[m\u001b[mfree,\u001b[m\u001b[m\u001b[1m   593492 \u001b[m\u001b[mused,\u001b[m\u001b[m\u001b[1m  1871968 \u001b[m\u001b[mbuff/cache\u001b[m\u001b[m\u001b[m\u001b[m\u001b[K\n",
            "KiB Swap:\u001b[m\u001b[m\u001b[1m        0 \u001b[m\u001b[mtotal,\u001b[m\u001b[m\u001b[1m        0 \u001b[m\u001b[mfree,\u001b[m\u001b[m\u001b[1m        0 \u001b[m\u001b[mused.\u001b[m\u001b[m\u001b[1m 12476544 \u001b[m\u001b[mavail Mem \u001b[m\u001b[m\u001b[m\u001b[m\u001b[K\n",
            "\u001b[K\n",
            "\n",
            "\u001b[m     65 root      20   0  470988  94324  24268 S   0.7  0.7   0:02.14 python3   \u001b[m\u001b[m\u001b[K\n",
            "\u001b[m      7 root      20   0  339816  50232  32424 S   0.3  0.4   0:00.98 node      \u001b[m\u001b[m\u001b[K\n",
            "\u001b[m     23 root      20   0   35892   4828   3720 S   0.3  0.0   0:00.53 tail      \u001b[m\u001b[m\u001b[K\n",
            "\u001b[m     85 root      20   0  128156  15800   5696 S   0.3  0.1   0:00.17 python3   \u001b[m\u001b[m\u001b[K\n",
            "\n",
            "\u001b[m     33 root      20   0       0      0      0 Z   0.0  0.0   0:06.24 python3   \u001b[m\u001b[m\u001b[K\n",
            "\u001b[m     34 root      20   0  160408  41076  13016 S   0.0  0.3   0:00.46 colab-fi+ \u001b[m\u001b[m\u001b[K\n",
            "\u001b[m     47 root      20   0  203828  60704  15988 S   0.0  0.5   0:01.68 jupyter-+ \u001b[m\u001b[m\u001b[K\n",
            "\u001b[m     48 root      20   0  708228  10212   4532 S   0.0  0.1   0:00.10 dap_mult+ \u001b[m\u001b[m\u001b[K\n",
            "\n",
            "\n",
            "\u001b[J\u001b[H\u001b[mtop - 10:29:48 up 4 min,  0 users,  load average: 0.03, 0.14, 0.08\u001b[m\u001b[m\u001b[m\u001b[m\u001b[K\n",
            "\n",
            "%Cpu(s):\u001b[m\u001b[m\u001b[1m  1.0 \u001b[m\u001b[mus,\u001b[m\u001b[m\u001b[1m  0.8 \u001b[m\u001b[msy,\u001b[m\u001b[m\u001b[1m  0.0 \u001b[m\u001b[mni,\u001b[m\u001b[m\u001b[1m 98.0 \u001b[m\u001b[mid,\u001b[m\u001b[m\u001b[1m  0.0 \u001b[m\u001b[mwa,\u001b[m\u001b[m\u001b[1m  0.0 \u001b[m\u001b[mhi,\u001b[m\u001b[m\u001b[1m  0.0 \u001b[m\u001b[msi,\u001b[m\u001b[m\u001b[1m  0.2 \u001b[m\u001b[mst\u001b[m\u001b[m\u001b[m\u001b[m\u001b[K\n",
            "KiB Mem :\u001b[m\u001b[m\u001b[1m 13302920 \u001b[m\u001b[mtotal,\u001b[m\u001b[m\u001b[1m 10836988 \u001b[m\u001b[mfree,\u001b[m\u001b[m\u001b[1m   593964 \u001b[m\u001b[mused,\u001b[m\u001b[m\u001b[1m  1871968 \u001b[m\u001b[mbuff/cache\u001b[m\u001b[m\u001b[m\u001b[m\u001b[K\n",
            "KiB Swap:\u001b[m\u001b[m\u001b[1m        0 \u001b[m\u001b[mtotal,\u001b[m\u001b[m\u001b[1m        0 \u001b[m\u001b[mfree,\u001b[m\u001b[m\u001b[1m        0 \u001b[m\u001b[mused.\u001b[m\u001b[m\u001b[1m 12476072 \u001b[m\u001b[mavail Mem \u001b[m\u001b[m\u001b[m\u001b[m\u001b[K\n",
            "\u001b[K\n",
            "\n",
            "\u001b[m     65 root      20   0  470988  94324  24268 S   0.7  0.7   0:02.16 python3   \u001b[m\u001b[m\u001b[K\n",
            "\u001b[m     85 root      20   0  128156  15800   5696 S   0.3  0.1   0:00.18 python3   \u001b[m\u001b[m\u001b[K\n",
            "\u001b[m      1 root      20   0     992      4      0 S   0.0  0.0   0:00.54 docker-i+ \u001b[m\u001b[m\u001b[K\n",
            "\u001b[m      7 root      20   0  339816  50232  32424 S   0.0  0.4   0:00.98 node      \u001b[m\u001b[m\u001b[K\n",
            "\u001b[m     23 root      20   0   35892   4828   3720 S   0.0  0.0   0:00.53 tail      \u001b[m\u001b[m\u001b[K\n",
            "\n",
            "\n",
            "\n",
            "\n",
            "\n",
            "\n",
            "\u001b[J\u001b[H\u001b[mtop - 10:29:51 up 4 min,  0 users,  load average: 0.03, 0.13, 0.08\u001b[m\u001b[m\u001b[m\u001b[m\u001b[K\n",
            "\n",
            "%Cpu(s):\u001b[m\u001b[m\u001b[1m  1.7 \u001b[m\u001b[mus,\u001b[m\u001b[m\u001b[1m  1.0 \u001b[m\u001b[msy,\u001b[m\u001b[m\u001b[1m  0.0 \u001b[m\u001b[mni,\u001b[m\u001b[m\u001b[1m 97.3 \u001b[m\u001b[mid,\u001b[m\u001b[m\u001b[1m  0.0 \u001b[m\u001b[mwa,\u001b[m\u001b[m\u001b[1m  0.0 \u001b[m\u001b[mhi,\u001b[m\u001b[m\u001b[1m  0.0 \u001b[m\u001b[msi,\u001b[m\u001b[m\u001b[1m  0.0 \u001b[m\u001b[mst\u001b[m\u001b[m\u001b[m\u001b[m\u001b[K\n",
            "KiB Mem :\u001b[m\u001b[m\u001b[1m 13302920 \u001b[m\u001b[mtotal,\u001b[m\u001b[m\u001b[1m 10837492 \u001b[m\u001b[mfree,\u001b[m\u001b[m\u001b[1m   593460 \u001b[m\u001b[mused,\u001b[m\u001b[m\u001b[1m  1871968 \u001b[m\u001b[mbuff/cache\u001b[m\u001b[m\u001b[m\u001b[m\u001b[K\n",
            "KiB Swap:\u001b[m\u001b[m\u001b[1m        0 \u001b[m\u001b[mtotal,\u001b[m\u001b[m\u001b[1m        0 \u001b[m\u001b[mfree,\u001b[m\u001b[m\u001b[1m        0 \u001b[m\u001b[mused.\u001b[m\u001b[m\u001b[1m 12477560 \u001b[m\u001b[mavail Mem \u001b[m\u001b[m\u001b[m\u001b[m\u001b[K\n",
            "\u001b[K\n",
            "\n",
            "\u001b[m     65 root      20   0  470988  94324  24268 S   1.0  0.7   0:02.19 python3   \u001b[m\u001b[m\u001b[K\n",
            "\u001b[m    102 root      20   0  500048  92332  31540 S   0.7  0.7   0:03.13 node      \u001b[m\u001b[m\u001b[K\n",
            "\u001b[m      7 root      20   0  339816  49632  32424 S   0.3  0.4   0:00.99 node      \u001b[m\u001b[m\u001b[K\n",
            "\u001b[m     47 root      20   0  203828  60704  15988 S   0.3  0.5   0:01.69 jupyter-+ \u001b[m\u001b[m\u001b[K\n",
            "\u001b[m     48 root      20   0  708228  10212   4532 S   0.3  0.1   0:00.11 dap_mult+ \u001b[m\u001b[m\u001b[K\n",
            "\u001b[m     85 root      20   0  128156  15800   5696 S   0.3  0.1   0:00.19 python3   \u001b[m\u001b[m\u001b[K\n",
            "\u001b[m      1 root      20   0     992      4      0 S   0.0  0.0   0:00.54 docker-i+ \u001b[m\u001b[m\u001b[K\n",
            "\u001b[m     23 root      20   0   35892   4828   3720 S   0.0  0.0   0:00.53 tail      \u001b[m\u001b[m\u001b[K\n",
            "\u001b[m     33 root      20   0       0      0      0 Z   0.0  0.0   0:06.24 python3   \u001b[m\u001b[m\u001b[K\n",
            "\u001b[m     34 root      20   0  160408  41076  13016 S   0.0  0.3   0:00.46 colab-fi+ \u001b[m\u001b[m\u001b[K\n",
            "\n",
            "\u001b[J\u001b[H\u001b[mtop - 10:29:54 up 4 min,  0 users,  load average: 0.03, 0.13, 0.08\u001b[m\u001b[m\u001b[m\u001b[m\u001b[K\n",
            "\n",
            "%Cpu(s):\u001b[m\u001b[m\u001b[1m  1.2 \u001b[m\u001b[mus,\u001b[m\u001b[m\u001b[1m  1.0 \u001b[m\u001b[msy,\u001b[m\u001b[m\u001b[1m  0.0 \u001b[m\u001b[mni,\u001b[m\u001b[m\u001b[1m 97.7 \u001b[m\u001b[mid,\u001b[m\u001b[m\u001b[1m  0.0 \u001b[m\u001b[mwa,\u001b[m\u001b[m\u001b[1m  0.0 \u001b[m\u001b[mhi,\u001b[m\u001b[m\u001b[1m  0.2 \u001b[m\u001b[msi,\u001b[m\u001b[m\u001b[1m  0.0 \u001b[m\u001b[mst\u001b[m\u001b[m\u001b[m\u001b[m\u001b[K\n",
            "KiB Mem :\u001b[m\u001b[m\u001b[1m 13302920 \u001b[m\u001b[mtotal,\u001b[m\u001b[m\u001b[1m 10836704 \u001b[m\u001b[mfree,\u001b[m\u001b[m\u001b[1m   594248 \u001b[m\u001b[mused,\u001b[m\u001b[m\u001b[1m  1871968 \u001b[m\u001b[mbuff/cache\u001b[m\u001b[m\u001b[m\u001b[m\u001b[K\n",
            "KiB Swap:\u001b[m\u001b[m\u001b[1m        0 \u001b[m\u001b[mtotal,\u001b[m\u001b[m\u001b[1m        0 \u001b[m\u001b[mfree,\u001b[m\u001b[m\u001b[1m        0 \u001b[m\u001b[mused.\u001b[m\u001b[m\u001b[1m 12476772 \u001b[m\u001b[mavail Mem \u001b[m\u001b[m\u001b[m\u001b[m\u001b[K\n",
            "\u001b[K\n",
            "\n",
            "\u001b[m     65 root      20   0  470988  94324  24268 S   0.7  0.7   0:02.21 python3   \u001b[m\u001b[m\u001b[K\n",
            "\u001b[m      7 root      20   0  339816  49888  32424 S   0.3  0.4   0:01.00 node      \u001b[m\u001b[m\u001b[K\n",
            "\u001b[m     47 root      20   0  203828  60704  15988 S   0.3  0.5   0:01.70 jupyter-+ \u001b[m\u001b[m\u001b[K\n",
            "\u001b[m      1 root      20   0     992      4      0 S   0.0  0.0   0:00.54 docker-i+ \u001b[m\u001b[m\u001b[K\n",
            "\u001b[m     23 root      20   0   35892   4828   3720 S   0.0  0.0   0:00.53 tail      \u001b[m\u001b[m\u001b[K\n",
            "\u001b[m     33 root      20   0       0      0      0 Z   0.0  0.0   0:06.24 python3   \u001b[m\u001b[m\u001b[K\n",
            "\u001b[m     34 root      20   0  160408  41076  13016 S   0.0  0.3   0:00.46 colab-fi+ \u001b[m\u001b[m\u001b[K\n",
            "\u001b[m     48 root      20   0  708228  10212   4532 S   0.0  0.1   0:00.11 dap_mult+ \u001b[m\u001b[m\u001b[K\n",
            "\u001b[m     85 root      20   0  128156  15800   5696 S   0.0  0.1   0:00.19 python3   \u001b[m\u001b[m\u001b[K\n",
            "\u001b[m    102 root      20   0  500048  92332  31540 S   0.0  0.7   0:03.13 node      \u001b[m\u001b[m\u001b[K\n",
            "\n",
            "\u001b[J\u001b[H\u001b[mtop - 10:29:57 up 4 min,  0 users,  load average: 0.03, 0.13, 0.08\u001b[m\u001b[m\u001b[m\u001b[m\u001b[K\n",
            "\n",
            "%Cpu(s):\u001b[m\u001b[m\u001b[1m  1.0 \u001b[m\u001b[mus,\u001b[m\u001b[m\u001b[1m  0.8 \u001b[m\u001b[msy,\u001b[m\u001b[m\u001b[1m  0.0 \u001b[m\u001b[mni,\u001b[m\u001b[m\u001b[1m 98.2 \u001b[m\u001b[mid,\u001b[m\u001b[m\u001b[1m  0.0 \u001b[m\u001b[mwa,\u001b[m\u001b[m\u001b[1m  0.0 \u001b[m\u001b[mhi,\u001b[m\u001b[m\u001b[1m  0.0 \u001b[m\u001b[msi,\u001b[m\u001b[m\u001b[1m  0.0 \u001b[m\u001b[mst\u001b[m\u001b[m\u001b[m\u001b[m\u001b[K\n",
            "KiB Mem :\u001b[m\u001b[m\u001b[1m 13302920 \u001b[m\u001b[mtotal,\u001b[m\u001b[m\u001b[1m 10837208 \u001b[m\u001b[mfree,\u001b[m\u001b[m\u001b[1m   593708 \u001b[m\u001b[mused,\u001b[m\u001b[m\u001b[1m  1872004 \u001b[m\u001b[mbuff/cache\u001b[m\u001b[m\u001b[m\u001b[m\u001b[K\n",
            "KiB Swap:\u001b[m\u001b[m\u001b[1m        0 \u001b[m\u001b[mtotal,\u001b[m\u001b[m\u001b[1m        0 \u001b[m\u001b[mfree,\u001b[m\u001b[m\u001b[1m        0 \u001b[m\u001b[mused.\u001b[m\u001b[m\u001b[1m 12477312 \u001b[m\u001b[mavail Mem \u001b[m\u001b[m\u001b[m\u001b[m\u001b[K\n",
            "\u001b[K\n",
            "\n",
            "\u001b[m     65 root      20   0  470988  94324  24268 S   0.7  0.7   0:02.23 python3   \u001b[m\u001b[m\u001b[K\n",
            "\u001b[m      7 root      20   0  339816  49888  32424 S   0.3  0.4   0:01.01 node      \u001b[m\u001b[m\u001b[K\n",
            "\u001b[m     47 root      20   0  203828  60704  15988 S   0.3  0.5   0:01.71 jupyter-+ \u001b[m\u001b[m\u001b[K\n",
            "\u001b[m     48 root      20   0  708228  10212   4532 S   0.3  0.1   0:00.12 dap_mult+ \u001b[m\u001b[m\u001b[K\n",
            "\u001b[m     85 root      20   0  128156  15800   5696 S   0.3  0.1   0:00.20 python3   \u001b[m\u001b[m\u001b[K\n",
            "\u001b[m      1 root      20   0     992      4      0 S   0.0  0.0   0:00.54 docker-i+ \u001b[m\u001b[m\u001b[K\n",
            "\u001b[m     23 root      20   0   35892   4828   3720 S   0.0  0.0   0:00.53 tail      \u001b[m\u001b[m\u001b[K\n",
            "\u001b[m     33 root      20   0       0      0      0 Z   0.0  0.0   0:06.24 python3   \u001b[m\u001b[m\u001b[K\n",
            "\u001b[m     34 root      20   0  160408  41076  13016 S   0.0  0.3   0:00.46 colab-fi+ \u001b[m\u001b[m\u001b[K\n",
            "\n",
            "\n",
            "\u001b[J\u001b[H\u001b[mtop - 10:30:00 up 4 min,  0 users,  load average: 0.02, 0.13, 0.08\u001b[m\u001b[m\u001b[m\u001b[m\u001b[K\n",
            "\n",
            "%Cpu(s):\u001b[m\u001b[m\u001b[1m  1.0 \u001b[m\u001b[mus,\u001b[m\u001b[m\u001b[1m  0.7 \u001b[m\u001b[msy,\u001b[m\u001b[m\u001b[1m  0.0 \u001b[m\u001b[mni,\u001b[m\u001b[m\u001b[1m 98.3 \u001b[m\u001b[mid,\u001b[m\u001b[m\u001b[1m  0.0 \u001b[m\u001b[mwa,\u001b[m\u001b[m\u001b[1m  0.0 \u001b[m\u001b[mhi,\u001b[m\u001b[m\u001b[1m  0.0 \u001b[m\u001b[msi,\u001b[m\u001b[m\u001b[1m  0.0 \u001b[m\u001b[mst\u001b[m\u001b[m\u001b[m\u001b[m\u001b[K\n",
            "KiB Mem :\u001b[m\u001b[m\u001b[1m 13302920 \u001b[m\u001b[mtotal,\u001b[m\u001b[m\u001b[1m 10836672 \u001b[m\u001b[mfree,\u001b[m\u001b[m\u001b[1m   594244 \u001b[m\u001b[mused,\u001b[m\u001b[m\u001b[1m  1872004 \u001b[m\u001b[mbuff/cache\u001b[m\u001b[m\u001b[m\u001b[m\u001b[K\n",
            "KiB Swap:\u001b[m\u001b[m\u001b[1m        0 \u001b[m\u001b[mtotal,\u001b[m\u001b[m\u001b[1m        0 \u001b[m\u001b[mfree,\u001b[m\u001b[m\u001b[1m        0 \u001b[m\u001b[mused.\u001b[m\u001b[m\u001b[1m 12476776 \u001b[m\u001b[mavail Mem \u001b[m\u001b[m\u001b[m\u001b[m\u001b[K\n",
            "\u001b[K\n",
            "\n",
            "\u001b[m     65 root      20   0  470988  94324  24268 S   1.0  0.7   0:02.26 python3   \u001b[m\u001b[m\u001b[K\n",
            "\u001b[m     48 root      20   0  708228  10212   4532 S   0.3  0.1   0:00.13 dap_mult+ \u001b[m\u001b[m\u001b[K\n",
            "\u001b[m     85 root      20   0  128156  15800   5696 S   0.3  0.1   0:00.21 python3   \u001b[m\u001b[m\u001b[K\n",
            "\u001b[m      1 root      20   0     992      4      0 S   0.0  0.0   0:00.54 docker-i+ \u001b[m\u001b[m\u001b[K\n",
            "\u001b[m      7 root      20   0  339816  49888  32424 S   0.0  0.4   0:01.01 node      \u001b[m\u001b[m\u001b[K\n",
            "\u001b[m     23 root      20   0   35892   4828   3720 S   0.0  0.0   0:00.53 tail      \u001b[m\u001b[m\u001b[K\n",
            "\u001b[m     33 root      20   0       0      0      0 Z   0.0  0.0   0:06.24 python3   \u001b[m\u001b[m\u001b[K\n",
            "\u001b[m     34 root      20   0  160408  41076  13016 S   0.0  0.3   0:00.46 colab-fi+ \u001b[m\u001b[m\u001b[K\n",
            "\u001b[m     47 root      20   0  203828  60704  15988 S   0.0  0.5   0:01.71 jupyter-+ \u001b[m\u001b[m\u001b[K\n",
            "\n",
            "\n",
            "\u001b[J\u001b[H\u001b[mtop - 10:30:03 up 4 min,  0 users,  load average: 0.02, 0.13, 0.08\u001b[m\u001b[m\u001b[m\u001b[m\u001b[K\n",
            "\n",
            "%Cpu(s):\u001b[m\u001b[m\u001b[1m  1.2 \u001b[m\u001b[mus,\u001b[m\u001b[m\u001b[1m  0.5 \u001b[m\u001b[msy,\u001b[m\u001b[m\u001b[1m  0.0 \u001b[m\u001b[mni,\u001b[m\u001b[m\u001b[1m 98.3 \u001b[m\u001b[mid,\u001b[m\u001b[m\u001b[1m  0.0 \u001b[m\u001b[mwa,\u001b[m\u001b[m\u001b[1m  0.0 \u001b[m\u001b[mhi,\u001b[m\u001b[m\u001b[1m  0.0 \u001b[m\u001b[msi,\u001b[m\u001b[m\u001b[1m  0.0 \u001b[m\u001b[mst\u001b[m\u001b[m\u001b[m\u001b[m\u001b[K\n",
            "KiB Mem :\u001b[m\u001b[m\u001b[1m 13302920 \u001b[m\u001b[mtotal,\u001b[m\u001b[m\u001b[1m 10836232 \u001b[m\u001b[mfree,\u001b[m\u001b[m\u001b[1m   594684 \u001b[m\u001b[mused,\u001b[m\u001b[m\u001b[1m  1872004 \u001b[m\u001b[mbuff/cache\u001b[m\u001b[m\u001b[m\u001b[m\u001b[K\n",
            "KiB Swap:\u001b[m\u001b[m\u001b[1m        0 \u001b[m\u001b[mtotal,\u001b[m\u001b[m\u001b[1m        0 \u001b[m\u001b[mfree,\u001b[m\u001b[m\u001b[1m        0 \u001b[m\u001b[mused.\u001b[m\u001b[m\u001b[1m 12476344 \u001b[m\u001b[mavail Mem \u001b[m\u001b[m\u001b[m\u001b[m\u001b[K\n",
            "\u001b[K\n",
            "\n",
            "\u001b[m     65 root      20   0  470988  94324  24268 S   0.7  0.7   0:02.28 python3   \u001b[m\u001b[m\u001b[K\n",
            "\u001b[m     85 root      20   0  128156  15800   5696 S   0.3  0.1   0:00.22 python3   \u001b[m\u001b[m\u001b[K\n",
            "\u001b[m      1 root      20   0     992      4      0 S   0.0  0.0   0:00.54 docker-i+ \u001b[m\u001b[m\u001b[K\n",
            "\u001b[m      7 root      20   0  339816  50140  32424 S   0.0  0.4   0:01.01 node      \u001b[m\u001b[m\u001b[K\n",
            "\u001b[m     23 root      20   0   35892   4828   3720 S   0.0  0.0   0:00.53 tail      \u001b[m\u001b[m\u001b[K\n",
            "\u001b[m     33 root      20   0       0      0      0 Z   0.0  0.0   0:06.24 python3   \u001b[m\u001b[m\u001b[K\n",
            "\u001b[m     34 root      20   0  160408  41076  13016 S   0.0  0.3   0:00.46 colab-fi+ \u001b[m\u001b[m\u001b[K\n",
            "\u001b[m     47 root      20   0  203828  60704  15988 S   0.0  0.5   0:01.71 jupyter-+ \u001b[m\u001b[m\u001b[K\n",
            "\u001b[m     48 root      20   0  708228  10212   4532 S   0.0  0.1   0:00.13 dap_mult+ \u001b[m\u001b[m\u001b[K\n",
            "\n",
            "\n",
            "\u001b[J"
          ]
        }
      ]
    },
    {
      "cell_type": "code",
      "source": [
        "!last"
      ],
      "metadata": {
        "colab": {
          "base_uri": "https://localhost:8080/"
        },
        "id": "BV-Ie9isLPO7",
        "outputId": "6c736eb2-75cc-40c1-d24d-0f014d8068f2"
      },
      "execution_count": 1,
      "outputs": [
        {
          "output_type": "stream",
          "name": "stdout",
          "text": [
            "\n",
            "wtmp begins Fri Mar 18 13:30:42 2022\n"
          ]
        }
      ]
    },
    {
      "cell_type": "code",
      "source": [
        ""
      ],
      "metadata": {
        "id": "VhlEhlcTLZ9Z"
      },
      "execution_count": null,
      "outputs": []
    },
    {
      "cell_type": "code",
      "source": [
        ""
      ],
      "metadata": {
        "id": "wO6KaECtLbI3"
      },
      "execution_count": null,
      "outputs": []
    },
    {
      "cell_type": "code",
      "source": [
        "import pandas as pd\n",
        "import math as mt\n",
        "mt.sqrt(81)"
      ],
      "metadata": {
        "colab": {
          "base_uri": "https://localhost:8080/"
        },
        "id": "KkYjJhLhLmNV",
        "outputId": "a0454ab6-792b-4b72-9f7d-78194821af96"
      },
      "execution_count": 6,
      "outputs": [
        {
          "output_type": "execute_result",
          "data": {
            "text/plain": [
              "9.0"
            ]
          },
          "metadata": {},
          "execution_count": 6
        }
      ]
    },
    {
      "cell_type": "code",
      "source": [
        ""
      ],
      "metadata": {
        "id": "IV7RzxwCNsjZ"
      },
      "execution_count": null,
      "outputs": []
    },
    {
      "cell_type": "code",
      "source": [
        "import qrcode\n",
        "img=qrcode.make(\"\"\"welcome to open source STC fro 21-25 march   blog https://fosscommunity.wordpress.com/free-and-open-source-software/\"\"\")\n",
        "type(img)\n",
        "img.save(\"qrmyfile.png\")"
      ],
      "metadata": {
        "id": "bv-pwX9rM-Wm"
      },
      "execution_count": 9,
      "outputs": []
    },
    {
      "cell_type": "code",
      "source": [
        ""
      ],
      "metadata": {
        "id": "3hnjDTr9hwvL"
      },
      "execution_count": null,
      "outputs": []
    },
    {
      "cell_type": "markdown",
      "source": [
        "# New Section"
      ],
      "metadata": {
        "id": "lPdAzTLzN43s"
      }
    },
    {
      "cell_type": "markdown",
      "source": [
        "# New Section"
      ],
      "metadata": {
        "id": "2SiXLr2jN5W0"
      }
    },
    {
      "cell_type": "code",
      "source": [
        "!pip install qrcode\n",
        "import qrcode\n",
        "img=qrcode.make(\"\"\"welcome to open source STC fro 21-25 march   blog https://fosscommunity.wordpress.com/free-and-open-source-software/\"\"\")\n",
        "type(img)\n",
        "img.save(\"qrmyfile.png\")"
      ],
      "metadata": {
        "colab": {
          "base_uri": "https://localhost:8080/"
        },
        "id": "8KHLh1_cOhFq",
        "outputId": "b68aca43-c540-49d4-aedc-144c2a5fd2e9"
      },
      "execution_count": 2,
      "outputs": [
        {
          "output_type": "stream",
          "name": "stdout",
          "text": [
            "Collecting qrcode\n",
            "  Downloading qrcode-7.3.1.tar.gz (43 kB)\n",
            "\u001b[?25l\r\u001b[K     |███████▌                        | 10 kB 14.8 MB/s eta 0:00:01\r\u001b[K     |███████████████                 | 20 kB 9.1 MB/s eta 0:00:01\r\u001b[K     |██████████████████████▋         | 30 kB 7.9 MB/s eta 0:00:01\r\u001b[K     |██████████████████████████████▏ | 40 kB 7.1 MB/s eta 0:00:01\r\u001b[K     |████████████████████████████████| 43 kB 714 kB/s \n",
            "\u001b[?25hBuilding wheels for collected packages: qrcode\n",
            "  Building wheel for qrcode (setup.py) ... \u001b[?25l\u001b[?25hdone\n",
            "  Created wheel for qrcode: filename=qrcode-7.3.1-py3-none-any.whl size=40402 sha256=308bb47d97a07b5cdae787ce7b1a62994ea5fde1b194d66c95f3ef23f9866499\n",
            "  Stored in directory: /root/.cache/pip/wheels/93/d7/39/a4111be2cfb8e679938aa671a37888b6afb1f9e7d748e94492\n",
            "Successfully built qrcode\n",
            "Installing collected packages: qrcode\n",
            "Successfully installed qrcode-7.3.1\n"
          ]
        }
      ]
    },
    {
      "cell_type": "code",
      "source": [
        "!pip install qrcode"
      ],
      "metadata": {
        "colab": {
          "base_uri": "https://localhost:8080/"
        },
        "id": "id8-UaYkNuGh",
        "outputId": "ce454201-c275-4e9e-e0c5-355cf47dabad"
      },
      "execution_count": 8,
      "outputs": [
        {
          "output_type": "stream",
          "name": "stdout",
          "text": [
            "Collecting qrcode\n",
            "  Downloading qrcode-7.3.1.tar.gz (43 kB)\n",
            "\u001b[?25l\r\u001b[K     |███████▌                        | 10 kB 22.5 MB/s eta 0:00:01\r\u001b[K     |███████████████                 | 20 kB 26.2 MB/s eta 0:00:01\r\u001b[K     |██████████████████████▋         | 30 kB 22.4 MB/s eta 0:00:01\r\u001b[K     |██████████████████████████████▏ | 40 kB 11.9 MB/s eta 0:00:01\r\u001b[K     |████████████████████████████████| 43 kB 1.7 MB/s \n",
            "\u001b[?25hBuilding wheels for collected packages: qrcode\n",
            "  Building wheel for qrcode (setup.py) ... \u001b[?25l\u001b[?25hdone\n",
            "  Created wheel for qrcode: filename=qrcode-7.3.1-py3-none-any.whl size=40402 sha256=db8835356656604fb7b2c4f083ac282baee6632d3f10f2d13a8ab58683c4fb5b\n",
            "  Stored in directory: /root/.cache/pip/wheels/93/d7/39/a4111be2cfb8e679938aa671a37888b6afb1f9e7d748e94492\n",
            "Successfully built qrcode\n",
            "Installing collected packages: qrcode\n",
            "Successfully installed qrcode-7.3.1\n"
          ]
        }
      ]
    },
    {
      "cell_type": "code",
      "source": [
        "import qrcode\n",
        "img=qrcode.make(\"\"\"welcome to my youtube channel https://youtube.com/c/MilindBhatt\"\"\")\n",
        "type(img)\n",
        "img.save(\"mbYTqrCode.png\")"
      ],
      "metadata": {
        "id": "oeQ-I8gHiDbQ"
      },
      "execution_count": 3,
      "outputs": []
    }
  ]
}