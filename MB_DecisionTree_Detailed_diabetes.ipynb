{
  "nbformat": 4,
  "nbformat_minor": 0,
  "metadata": {
    "colab": {
      "name": "MB-DecisionTree Detailed-diabetes.ipynb",
      "provenance": [],
      "mount_file_id": "1_MUsEnZJO9erjNM7OkcNNlcMBp0IoFz_",
      "authorship_tag": "ABX9TyMrUx3uuDcBSayJtAnNt4P/",
      "include_colab_link": true
    },
    "kernelspec": {
      "name": "python3",
      "display_name": "Python 3"
    },
    "language_info": {
      "name": "python"
    }
  },
  "cells": [
    {
      "cell_type": "markdown",
      "metadata": {
        "id": "view-in-github",
        "colab_type": "text"
      },
      "source": [
        "<a href=\"https://colab.research.google.com/github/MilindBhatt01/PyCodeSamples/blob/main/MB_DecisionTree_Detailed_diabetes.ipynb\" target=\"_parent\"><img src=\"https://colab.research.google.com/assets/colab-badge.svg\" alt=\"Open In Colab\"/></a>"
      ]
    },
    {
      "cell_type": "code",
      "source": [
        "from google.colab import drive\n",
        "drive.mount('/content/drive')"
      ],
      "metadata": {
        "id": "hw3sO9bGhgj7"
      },
      "execution_count": null,
      "outputs": []
    },
    {
      "cell_type": "code",
      "execution_count": null,
      "metadata": {
        "id": "syRYVvvb_Iim"
      },
      "outputs": [],
      "source": [
        "import numpy as np\n",
        "import pandas as pd\n"
      ]
    },
    {
      "cell_type": "code",
      "source": [
        "df=pd.read_csv('/content/drive/MyDrive/Colab Notebooks/diabetes.csv')"
      ],
      "metadata": {
        "id": "w1Sb-S9L_NpY"
      },
      "execution_count": null,
      "outputs": []
    },
    {
      "cell_type": "code",
      "source": [
        "df.info()\n"
      ],
      "metadata": {
        "id": "HvyTQCArAByd"
      },
      "execution_count": null,
      "outputs": []
    },
    {
      "cell_type": "code",
      "source": [
        "#x=df.iloc[:,:-1].values\n",
        "x=df.drop(['Outcome'], axis=1)\n",
        "y=df['Outcome'].values"
      ],
      "metadata": {
        "id": "-HDxtgG8AG46"
      },
      "execution_count": null,
      "outputs": []
    },
    {
      "cell_type": "code",
      "source": [
        "print('x==  ',x)\n",
        "print('y== ',y)"
      ],
      "metadata": {
        "id": "ijdXXzjYAN0t"
      },
      "execution_count": null,
      "outputs": []
    },
    {
      "cell_type": "code",
      "source": [
        "from sklearn.model_selection import train_test_split\n",
        "xTrain, xTest, yTrain, yTest= train_test_split(x,y, train_size=0.3, random_state=0)"
      ],
      "metadata": {
        "id": "VWYzwqoNAO9S"
      },
      "execution_count": null,
      "outputs": []
    },
    {
      "cell_type": "code",
      "source": [
        "from sklearn import tree\n",
        "from sklearn.metrics import accuracy_score, confusion_matrix"
      ],
      "metadata": {
        "id": "b3woOenXA3Vi"
      },
      "execution_count": null,
      "outputs": []
    },
    {
      "cell_type": "code",
      "source": [
        "DtModel=tree.DecisionTreeClassifier()"
      ],
      "metadata": {
        "id": "42MDhXuKBRw6"
      },
      "execution_count": null,
      "outputs": []
    },
    {
      "cell_type": "code",
      "source": [
        "DtModel.fit(xTrain,yTrain)"
      ],
      "metadata": {
        "id": "_aS62fHpBesj"
      },
      "execution_count": null,
      "outputs": []
    },
    {
      "cell_type": "code",
      "source": [
        "yPred=DtModel.predict(xTest)"
      ],
      "metadata": {
        "id": "7IRiH5TJBfji"
      },
      "execution_count": null,
      "outputs": []
    },
    {
      "cell_type": "code",
      "source": [
        "accuracy_score(yTest,yPred)\n",
        "# or\n"
      ],
      "metadata": {
        "id": "SD2uXj-zBoXb"
      },
      "execution_count": null,
      "outputs": []
    },
    {
      "cell_type": "code",
      "source": [
        "accuracy_score(yPred,yTest)"
      ],
      "metadata": {
        "id": "J7yD1GlXj_yv"
      },
      "execution_count": null,
      "outputs": []
    },
    {
      "cell_type": "code",
      "source": [
        "confusion_matrix(yTest,yPred)"
      ],
      "metadata": {
        "id": "PHVFEq8rB2PK"
      },
      "execution_count": null,
      "outputs": []
    },
    {
      "cell_type": "code",
      "source": [
        "TP,FP,FN,TN=confusion_matrix(yTest,yPred).ravel()\n",
        "(TP,FP,FN,TN)"
      ],
      "metadata": {
        "id": "7KTmoOvckKci"
      },
      "execution_count": null,
      "outputs": []
    },
    {
      "cell_type": "code",
      "source": [
        "#\n",
        "Accuracy=TP/(TP+FP)\n",
        "Accuracy"
      ],
      "metadata": {
        "id": "gHzWU4qXB_mK"
      },
      "execution_count": null,
      "outputs": []
    },
    {
      "cell_type": "code",
      "source": [
        "Precision=TP/(TP+FP)\n",
        "Precision   # also called specificity"
      ],
      "metadata": {
        "id": "k7nWALKlmUi2"
      },
      "execution_count": null,
      "outputs": []
    },
    {
      "cell_type": "code",
      "source": [
        "Recall= TP/(TP+FN)  # also called sensitiveity\n",
        "Recall"
      ],
      "metadata": {
        "id": "2xh7RqYumeXG"
      },
      "execution_count": null,
      "outputs": []
    },
    {
      "cell_type": "code",
      "source": [
        "F1Score=2*Precision*Recall/(Precision+Recall)\n",
        "F1Score"
      ],
      "metadata": {
        "id": "KExWQftnoIDn"
      },
      "execution_count": null,
      "outputs": []
    },
    {
      "cell_type": "code",
      "source": [
        ""
      ],
      "metadata": {
        "id": "XVBYkndHogvm"
      },
      "execution_count": null,
      "outputs": []
    }
  ]
}